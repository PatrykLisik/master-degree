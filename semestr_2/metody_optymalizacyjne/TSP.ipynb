{
 "cells": [
  {
   "cell_type": "code",
   "execution_count": 1,
   "id": "6e3e00cd",
   "metadata": {},
   "outputs": [],
   "source": [
    "import matplotlib.pyplot as plt\n",
    "import numpy as np\n",
    "import pandas as pd\n",
    "from itertools import permutations,pairwise"
   ]
  },
  {
   "cell_type": "markdown",
   "id": "6fb07b9e",
   "metadata": {},
   "source": [
    "# Import danych"
   ]
  },
  {
   "cell_type": "code",
   "execution_count": 2,
   "id": "b6edb15b",
   "metadata": {},
   "outputs": [
    {
     "data": {
      "text/html": [
       "<div>\n",
       "<style scoped>\n",
       "    .dataframe tbody tr th:only-of-type {\n",
       "        vertical-align: middle;\n",
       "    }\n",
       "\n",
       "    .dataframe tbody tr th {\n",
       "        vertical-align: top;\n",
       "    }\n",
       "\n",
       "    .dataframe thead th {\n",
       "        text-align: right;\n",
       "    }\n",
       "</style>\n",
       "<table border=\"1\" class=\"dataframe\">\n",
       "  <thead>\n",
       "    <tr style=\"text-align: right;\">\n",
       "      <th></th>\n",
       "      <th>0</th>\n",
       "      <th>1</th>\n",
       "      <th>2</th>\n",
       "      <th>3</th>\n",
       "      <th>4</th>\n",
       "    </tr>\n",
       "  </thead>\n",
       "  <tbody>\n",
       "    <tr>\n",
       "      <th>0</th>\n",
       "      <td>0</td>\n",
       "      <td>100</td>\n",
       "      <td>200</td>\n",
       "      <td>300</td>\n",
       "      <td>400</td>\n",
       "    </tr>\n",
       "    <tr>\n",
       "      <th>1</th>\n",
       "      <td>100</td>\n",
       "      <td>0</td>\n",
       "      <td>80</td>\n",
       "      <td>160</td>\n",
       "      <td>380</td>\n",
       "    </tr>\n",
       "    <tr>\n",
       "      <th>2</th>\n",
       "      <td>200</td>\n",
       "      <td>80</td>\n",
       "      <td>0</td>\n",
       "      <td>270</td>\n",
       "      <td>150</td>\n",
       "    </tr>\n",
       "    <tr>\n",
       "      <th>3</th>\n",
       "      <td>300</td>\n",
       "      <td>160</td>\n",
       "      <td>270</td>\n",
       "      <td>0</td>\n",
       "      <td>490</td>\n",
       "    </tr>\n",
       "    <tr>\n",
       "      <th>4</th>\n",
       "      <td>400</td>\n",
       "      <td>380</td>\n",
       "      <td>150</td>\n",
       "      <td>490</td>\n",
       "      <td>0</td>\n",
       "    </tr>\n",
       "  </tbody>\n",
       "</table>\n",
       "</div>"
      ],
      "text/plain": [
       "     0    1    2    3    4\n",
       "0    0  100  200  300  400\n",
       "1  100    0   80  160  380\n",
       "2  200   80    0  270  150\n",
       "3  300  160  270    0  490\n",
       "4  400  380  150  490    0"
      ]
     },
     "execution_count": 2,
     "metadata": {},
     "output_type": "execute_result"
    }
   ],
   "source": [
    "data = pd.read_csv(\"./dist_5.txt\",skiprows=1, index_col=False,skipinitialspace=True, delim_whitespace=True, header=None)\n",
    "data"
   ]
  },
  {
   "cell_type": "code",
   "execution_count": 3,
   "id": "4bb4ba49",
   "metadata": {},
   "outputs": [
    {
     "data": {
      "text/plain": [
       "array([[  0, 100, 200, 300, 400],\n",
       "       [100,   0,  80, 160, 380],\n",
       "       [200,  80,   0, 270, 150],\n",
       "       [300, 160, 270,   0, 490],\n",
       "       [400, 380, 150, 490,   0]])"
      ]
     },
     "execution_count": 3,
     "metadata": {},
     "output_type": "execute_result"
    }
   ],
   "source": [
    "data = data.to_numpy()\n",
    "data"
   ]
  },
  {
   "cell_type": "markdown",
   "id": "2941b8a6-fd2e-442e-9384-ac0b7f6ef169",
   "metadata": {},
   "source": [
    "# Brute force"
   ]
  },
  {
   "cell_type": "code",
   "execution_count": 4,
   "id": "7817d5bc",
   "metadata": {},
   "outputs": [
    {
     "name": "stdout",
     "output_type": "stream",
     "text": [
      "CPU times: user 3 µs, sys: 2 µs, total: 5 µs\n",
      "Wall time: 9.3 µs\n"
     ]
    },
    {
     "data": {
      "text/plain": [
       "{(0, 1, 3, 2, 4, 0): 1080,\n",
       " (0, 4, 2, 3, 1, 0): 1080,\n",
       " (1, 0, 4, 2, 3, 1): 1080,\n",
       " (1, 3, 2, 4, 0, 1): 1080,\n",
       " (2, 3, 1, 0, 4, 2): 1080,\n",
       " (2, 4, 0, 1, 3, 2): 1080,\n",
       " (3, 1, 0, 4, 2, 3): 1080,\n",
       " (3, 2, 4, 0, 1, 3): 1080,\n",
       " (4, 0, 1, 3, 2, 4): 1080,\n",
       " (4, 2, 3, 1, 0, 4): 1080,\n",
       " (0, 3, 1, 2, 4, 0): 1090,\n",
       " (0, 4, 2, 1, 3, 0): 1090,\n",
       " (1, 2, 4, 0, 3, 1): 1090,\n",
       " (1, 3, 0, 4, 2, 1): 1090,\n",
       " (2, 1, 3, 0, 4, 2): 1090,\n",
       " (2, 4, 0, 3, 1, 2): 1090,\n",
       " (3, 0, 4, 2, 1, 3): 1090,\n",
       " (3, 1, 2, 4, 0, 3): 1090,\n",
       " (4, 0, 3, 1, 2, 4): 1090,\n",
       " (4, 2, 1, 3, 0, 4): 1090,\n",
       " (0, 1, 3, 4, 2, 0): 1100,\n",
       " (0, 2, 4, 3, 1, 0): 1100,\n",
       " (1, 0, 2, 4, 3, 1): 1100,\n",
       " (1, 3, 4, 2, 0, 1): 1100,\n",
       " (2, 0, 1, 3, 4, 2): 1100,\n",
       " (2, 4, 3, 1, 0, 2): 1100,\n",
       " (3, 1, 0, 2, 4, 3): 1100,\n",
       " (3, 4, 2, 0, 1, 3): 1100,\n",
       " (4, 2, 0, 1, 3, 4): 1100,\n",
       " (4, 3, 1, 0, 2, 4): 1100,\n",
       " (0, 1, 2, 4, 3, 0): 1120,\n",
       " (0, 3, 4, 2, 1, 0): 1120,\n",
       " (1, 0, 3, 4, 2, 1): 1120,\n",
       " (1, 2, 4, 3, 0, 1): 1120,\n",
       " (2, 1, 0, 3, 4, 2): 1120,\n",
       " (2, 4, 3, 0, 1, 2): 1120,\n",
       " (3, 0, 1, 2, 4, 3): 1120,\n",
       " (3, 4, 2, 1, 0, 3): 1120,\n",
       " (4, 2, 1, 0, 3, 4): 1120,\n",
       " (4, 3, 0, 1, 2, 4): 1120,\n",
       " (0, 2, 4, 1, 3, 0): 1190,\n",
       " (0, 3, 1, 4, 2, 0): 1190,\n",
       " (1, 3, 0, 2, 4, 1): 1190,\n",
       " (1, 4, 2, 0, 3, 1): 1190,\n",
       " (2, 0, 3, 1, 4, 2): 1190,\n",
       " (2, 4, 1, 3, 0, 2): 1190,\n",
       " (3, 0, 2, 4, 1, 3): 1190,\n",
       " (3, 1, 4, 2, 0, 3): 1190,\n",
       " (4, 1, 3, 0, 2, 4): 1190,\n",
       " (4, 2, 0, 3, 1, 4): 1190,\n",
       " (0, 1, 4, 2, 3, 0): 1200,\n",
       " (0, 3, 2, 4, 1, 0): 1200,\n",
       " (1, 0, 3, 2, 4, 1): 1200,\n",
       " (1, 4, 2, 3, 0, 1): 1200,\n",
       " (2, 3, 0, 1, 4, 2): 1200,\n",
       " (2, 4, 1, 0, 3, 2): 1200,\n",
       " (3, 0, 1, 4, 2, 3): 1200,\n",
       " (3, 2, 4, 1, 0, 3): 1200,\n",
       " (4, 1, 0, 3, 2, 4): 1200,\n",
       " (4, 2, 3, 0, 1, 4): 1200,\n",
       " (0, 2, 1, 3, 4, 0): 1330,\n",
       " (0, 4, 3, 1, 2, 0): 1330,\n",
       " (1, 2, 0, 4, 3, 1): 1330,\n",
       " (1, 3, 4, 0, 2, 1): 1330,\n",
       " (2, 0, 4, 3, 1, 2): 1330,\n",
       " (2, 1, 3, 4, 0, 2): 1330,\n",
       " (3, 1, 2, 0, 4, 3): 1330,\n",
       " (3, 4, 0, 2, 1, 3): 1330,\n",
       " (4, 0, 2, 1, 3, 4): 1330,\n",
       " (4, 3, 1, 2, 0, 4): 1330,\n",
       " (0, 1, 2, 3, 4, 0): 1340,\n",
       " (0, 4, 3, 2, 1, 0): 1340,\n",
       " (1, 0, 4, 3, 2, 1): 1340,\n",
       " (1, 2, 3, 4, 0, 1): 1340,\n",
       " (2, 1, 0, 4, 3, 2): 1340,\n",
       " (2, 3, 4, 0, 1, 2): 1340,\n",
       " (3, 2, 1, 0, 4, 3): 1340,\n",
       " (3, 4, 0, 1, 2, 3): 1340,\n",
       " (4, 0, 1, 2, 3, 4): 1340,\n",
       " (4, 3, 2, 1, 0, 4): 1340,\n",
       " (0, 2, 3, 1, 4, 0): 1410,\n",
       " (0, 4, 1, 3, 2, 0): 1410,\n",
       " (1, 3, 2, 0, 4, 1): 1410,\n",
       " (1, 4, 0, 2, 3, 1): 1410,\n",
       " (2, 0, 4, 1, 3, 2): 1410,\n",
       " (2, 3, 1, 4, 0, 2): 1410,\n",
       " (3, 1, 4, 0, 2, 3): 1410,\n",
       " (3, 2, 0, 4, 1, 3): 1410,\n",
       " (4, 0, 2, 3, 1, 4): 1410,\n",
       " (4, 1, 3, 2, 0, 4): 1410,\n",
       " (0, 3, 2, 1, 4, 0): 1430,\n",
       " (0, 4, 1, 2, 3, 0): 1430,\n",
       " (1, 2, 3, 0, 4, 1): 1430,\n",
       " (1, 4, 0, 3, 2, 1): 1430,\n",
       " (2, 1, 4, 0, 3, 2): 1430,\n",
       " (2, 3, 0, 4, 1, 2): 1430,\n",
       " (3, 0, 4, 1, 2, 3): 1430,\n",
       " (3, 2, 1, 4, 0, 3): 1430,\n",
       " (4, 0, 3, 2, 1, 4): 1430,\n",
       " (4, 1, 2, 3, 0, 4): 1430,\n",
       " (0, 1, 4, 3, 2, 0): 1440,\n",
       " (0, 2, 3, 4, 1, 0): 1440,\n",
       " (1, 0, 2, 3, 4, 1): 1440,\n",
       " (1, 4, 3, 2, 0, 1): 1440,\n",
       " (2, 0, 1, 4, 3, 2): 1440,\n",
       " (2, 3, 4, 1, 0, 2): 1440,\n",
       " (3, 2, 0, 1, 4, 3): 1440,\n",
       " (3, 4, 1, 0, 2, 3): 1440,\n",
       " (4, 1, 0, 2, 3, 4): 1440,\n",
       " (4, 3, 2, 0, 1, 4): 1440,\n",
       " (0, 2, 1, 4, 3, 0): 1450,\n",
       " (0, 3, 4, 1, 2, 0): 1450,\n",
       " (1, 2, 0, 3, 4, 1): 1450,\n",
       " (1, 4, 3, 0, 2, 1): 1450,\n",
       " (2, 0, 3, 4, 1, 2): 1450,\n",
       " (2, 1, 4, 3, 0, 2): 1450,\n",
       " (3, 0, 2, 1, 4, 3): 1450,\n",
       " (3, 4, 1, 2, 0, 3): 1450,\n",
       " (4, 1, 2, 0, 3, 4): 1450,\n",
       " (4, 3, 0, 2, 1, 4): 1450}"
      ]
     },
     "execution_count": 4,
     "metadata": {},
     "output_type": "execute_result"
    }
   ],
   "source": [
    "%time\n",
    "length = len(data[0])\n",
    "results_text = {}\n",
    "results = {}\n",
    "for order in permutations(range(length),length):\n",
    "    order = (*order,order[0])\n",
    "    road_length = 0\n",
    "    desc = \"\"\n",
    "    for point_a,point_b in pairwise(order):\n",
    "        distance=data[point_a,point_b]\n",
    "        desc+=f\"{distance}+\"\n",
    "        road_length+=distance\n",
    "    desc+=f\"={road_length}\"\n",
    "    results_text[order] = desc\n",
    "    results[order]=road_length\n",
    "{k: v for k, v in sorted(results.items(), key=lambda item: item[1])}"
   ]
  },
  {
   "cell_type": "code",
   "execution_count": null,
   "id": "3f30a9ce",
   "metadata": {},
   "outputs": [],
   "source": []
  },
  {
   "cell_type": "code",
   "execution_count": null,
   "id": "39b12331",
   "metadata": {},
   "outputs": [],
   "source": []
  },
  {
   "cell_type": "code",
   "execution_count": null,
   "id": "2be0e3cb",
   "metadata": {},
   "outputs": [],
   "source": []
  },
  {
   "cell_type": "code",
   "execution_count": null,
   "id": "8082b207",
   "metadata": {},
   "outputs": [],
   "source": []
  },
  {
   "cell_type": "code",
   "execution_count": null,
   "id": "7b3996dd",
   "metadata": {},
   "outputs": [],
   "source": []
  }
 ],
 "metadata": {
  "kernelspec": {
   "display_name": "Python 3 (ipykernel)",
   "language": "python",
   "name": "python3"
  },
  "language_info": {
   "codemirror_mode": {
    "name": "ipython",
    "version": 3
   },
   "file_extension": ".py",
   "mimetype": "text/x-python",
   "name": "python",
   "nbconvert_exporter": "python",
   "pygments_lexer": "ipython3",
   "version": "3.10.10"
  }
 },
 "nbformat": 4,
 "nbformat_minor": 5
}
