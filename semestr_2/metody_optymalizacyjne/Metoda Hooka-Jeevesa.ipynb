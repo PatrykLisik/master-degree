{
 "cells": [
  {
   "cell_type": "markdown",
   "id": "69216971-7c45-4121-9d8c-db9026c9b793",
   "metadata": {},
   "source": [
    "# Metoda Hooka-Jeevesa"
   ]
  },
  {
   "cell_type": "code",
   "execution_count": 1,
   "id": "f4258c45-279d-459a-8c3b-51bba7002fab",
   "metadata": {
    "tags": []
   },
   "outputs": [],
   "source": [
    "import numpy as np"
   ]
  },
  {
   "cell_type": "code",
   "execution_count": 127,
   "id": "faa19c7b-ab9e-4d25-a546-4711e45b18a4",
   "metadata": {
    "tags": []
   },
   "outputs": [],
   "source": [
    "def generate_start(dim,a=-10,b=10):\n",
    "    return (b - a) *np.random.random_sample((dim,))+a\n",
    "\n",
    "def d(dim,i):\n",
    "    zero = np.zeros(dim)\n",
    "    zero[i]=1\n",
    "    return zero\n",
    "    \n",
    "\n",
    "def hook_jeeves(f,dim,start_point=None,step_size=np.float64(0.6), step_shrink=np.float64(0.5), epsilon=np.float64(10**-10),max_iter=10**4):\n",
    "    \n",
    "    if start_point is None:\n",
    "        start_point=generate_start(dim)\n",
    "        print(f\"generating start - {start_point}\")\n",
    "    \n",
    "    delta=step_size\n",
    "    beta=step_shrink\n",
    "    x=start_point\n",
    "\n",
    "    j=0\n",
    "    F_min = f(x)\n",
    "    while j < max_iter:\n",
    "        has_sucessful_step = False\n",
    "        z=x.copy()\n",
    "        for i in range(dim):\n",
    "            di = d(dim,i)\n",
    "            zi = x+delta*di\n",
    "            F=f(zi)\n",
    "            # print(f\"i: {str(zi)} F: {F} F_min: {F_min}\")\n",
    "            if F<F_min:\n",
    "                # print(f\"i: {i} passesed F: {F} F_min:{F_min}\")\n",
    "                F_min=F\n",
    "                has_sucessful_step=True\n",
    "                z=zi\n",
    "            else:\n",
    "                zi = x-2*delta*di\n",
    "                F=f(zi)\n",
    "                # print(f\"-i: {str(zi)} F: {F} F_min: {F_min}\")\n",
    "                if F<F_min:\n",
    "                    # print(f\"-i: {i} passesed F: {F} F_min:{F_min}\")\n",
    "                    F_min=F\n",
    "                    has_sucessful_step=True\n",
    "                    z=zi\n",
    "\n",
    "        if has_sucessful_step:\n",
    "            x = 2*z-x\n",
    "            print(f\"{j:<4} | new x: {str(x):<27} |  F_min:{F_min}\")\n",
    "        else:\n",
    "            if j==0:\n",
    "                x=generate_start(dim)\n",
    "                print(f\"new_start - {x}\")\n",
    "                F_min = f(x)\n",
    "                j=0\n",
    "                continue\n",
    "            else:\n",
    "                print(f\"{j:<4} |delata shrink | delta:{delta:<24} |  F_min:{F_min}\")\n",
    "                delta = beta*delta\n",
    "            if delta<epsilon:\n",
    "                return x\n",
    "        j+=1\n",
    "        # print(f\"j:{j} x: {str(x):<10} delta: {delta}\" )\n",
    "        \n",
    "        \n",
    "    \n",
    "    "
   ]
  },
  {
   "cell_type": "code",
   "execution_count": 121,
   "id": "1d75ea76-6813-4464-9108-95df7b0bf03a",
   "metadata": {
    "tags": []
   },
   "outputs": [],
   "source": [
    "def rosenbrok_2d(arr):\n",
    "    x1,x2 = arr\n",
    "    return (2-x1)**2+11*(x2-x1**2)**2\n",
    "def rosenbrok_3d(arr):\n",
    "    x1,x2,x3 = arr\n",
    "    return ((1-x1)**2+18*(x2-x1**2)**2)+((1-x2)**2+18*(x3-x2**2)**2)"
   ]
  },
  {
   "cell_type": "code",
   "execution_count": 128,
   "id": "ff71c71d-9641-447a-a5ba-feb8b3a39edb",
   "metadata": {
    "tags": []
   },
   "outputs": [
    {
     "name": "stdout",
     "output_type": "stream",
     "text": [
      "generating start - [ 9.35753212 -6.87600326]\n",
      "0    | new x: [ 6.95753212 -6.87600326]   |  F_min:59335.529511435554\n",
      "1    | new x: [ 6.95753212 -5.67600326]   |  F_min:32917.42096240535\n",
      "2    | new x: [ 4.55753212 -5.67600326]   |  F_min:16595.45909222862\n",
      "3    | new x: [ 4.55753212 -4.47600326]   |  F_min:7355.340609890281\n",
      "4    | new x: [ 2.15753212 -4.47600326]   |  F_min:2730.1926243752337\n",
      "5    | new x: [ 2.15753212 -3.27600326]   |  F_min:800.5726446683689\n",
      "6    | new x: [-0.24246788 -3.27600326]   |  F_min:194.46857975458178\n",
      "7    | new x: [-0.24246788 -2.07600326]   |  F_min:87.29873861876635\n",
      "8    | new x: [-0.24246788 -0.87600326]   |  F_min:30.940178791154977\n",
      "9    | new x: [-0.24246788  0.32399674]   |  F_min:6.261618963543624\n",
      "10   | new x: [0.95753212 0.32399674]     |  F_min:3.120999440027972\n",
      "11   | new x: [0.95753212 1.52399674]     |  F_min:1.0872983367102895\n",
      "12   |delata shrink | delta:0.6                      |  F_min:1.0872983367102895\n",
      "13   | new x: [1.55753212 1.52399674]     |  F_min:0.5874886462475643\n",
      "14   |delata shrink | delta:0.3                      |  F_min:0.5874886462475643\n",
      "15   |delata shrink | delta:0.15                     |  F_min:0.5874886462475643\n",
      "16   |delata shrink | delta:0.075                    |  F_min:0.5874886462475643\n",
      "17   |delata shrink | delta:0.0375                   |  F_min:0.5874886462475643\n",
      "18   |delata shrink | delta:0.01875                  |  F_min:0.5874886462475643\n",
      "19   |delata shrink | delta:0.009375                 |  F_min:0.5874886462475643\n",
      "20   |delata shrink | delta:0.0046875                |  F_min:0.5874886462475643\n",
      "21   |delata shrink | delta:0.00234375               |  F_min:0.5874886462475643\n",
      "22   |delata shrink | delta:0.001171875              |  F_min:0.5874886462475643\n",
      "23   |delata shrink | delta:0.0005859375             |  F_min:0.5874886462475643\n",
      "24   |delata shrink | delta:0.00029296875            |  F_min:0.5874886462475643\n",
      "25   |delata shrink | delta:0.000146484375           |  F_min:0.5874886462475643\n",
      "26   |delata shrink | delta:7.32421875e-05           |  F_min:0.5874886462475643\n",
      "27   |delata shrink | delta:3.662109375e-05          |  F_min:0.5874886462475643\n",
      "28   |delata shrink | delta:1.8310546875e-05         |  F_min:0.5874886462475643\n",
      "29   |delata shrink | delta:9.1552734375e-06         |  F_min:0.5874886462475643\n",
      "30   |delata shrink | delta:4.57763671875e-06        |  F_min:0.5874886462475643\n",
      "31   |delata shrink | delta:2.288818359375e-06       |  F_min:0.5874886462475643\n",
      "32   |delata shrink | delta:1.1444091796875e-06      |  F_min:0.5874886462475643\n",
      "33   |delata shrink | delta:5.7220458984375e-07      |  F_min:0.5874886462475643\n",
      "34   |delata shrink | delta:2.86102294921875e-07     |  F_min:0.5874886462475643\n",
      "35   |delata shrink | delta:1.430511474609375e-07    |  F_min:0.5874886462475643\n",
      "36   |delata shrink | delta:7.152557373046875e-08    |  F_min:0.5874886462475643\n",
      "37   |delata shrink | delta:3.5762786865234374e-08   |  F_min:0.5874886462475643\n",
      "38   |delata shrink | delta:1.7881393432617187e-08   |  F_min:0.5874886462475643\n",
      "39   |delata shrink | delta:8.940696716308593e-09    |  F_min:0.5874886462475643\n",
      "40   |delata shrink | delta:4.470348358154297e-09    |  F_min:0.5874886462475643\n",
      "41   |delata shrink | delta:2.2351741790771484e-09   |  F_min:0.5874886462475643\n",
      "42   |delata shrink | delta:1.1175870895385742e-09   |  F_min:0.5874886462475643\n",
      "43   |delata shrink | delta:5.587935447692871e-10    |  F_min:0.5874886462475643\n",
      "44   |delata shrink | delta:2.7939677238464354e-10   |  F_min:0.5874886462475643\n",
      "45   |delata shrink | delta:1.3969838619232177e-10   |  F_min:0.5874886462475643\n"
     ]
    },
    {
     "data": {
      "text/plain": [
       "array([1.55753212, 1.52399674])"
      ]
     },
     "execution_count": 128,
     "metadata": {},
     "output_type": "execute_result"
    }
   ],
   "source": [
    "hook_jeeves(rosenbrok_2d,dim=2)"
   ]
  },
  {
   "cell_type": "code",
   "execution_count": 126,
   "id": "8cfa93ab-1986-4d16-9c81-6daa44bb0776",
   "metadata": {},
   "outputs": [
    {
     "name": "stdout",
     "output_type": "stream",
     "text": [
      "0    | new x: [ 2.60681061 -0.56297907 -5.82403695] |  F_min:1383.9832928538622\n",
      "1    | new x: [ 0.20681061 -0.56297907 -5.82403695] |  F_min:797.738821336183\n",
      "2    | new x: [ 0.20681061 -0.56297907 -4.62403695] |  F_min:562.321584288788\n",
      "3    | new x: [ 0.20681061 -0.56297907 -3.42403695] |  F_min:348.8711455549661\n",
      "4    | new x: [ 0.20681061 -0.56297907 -2.22403695] |  F_min:187.26070682114417\n",
      "5    | new x: [ 0.20681061 -0.56297907 -1.02403695] |  F_min:77.49026808732216\n",
      "6    | new x: [ 0.20681061 -0.56297907  0.17596305] |  F_min:19.55982935350017\n",
      "7    | new x: [0.20681061 0.63702093 0.17596305] |  F_min:2.105758890282406\n",
      "8    | new x: [1.40681061 0.63702093 0.17596305] |  F_min:1.1233795594948641\n",
      "9    |delata shrink | delta:0.6                      |  F_min:1.1233795594948641\n",
      "10   |delata shrink | delta:0.3                      |  F_min:1.1233795594948641\n",
      "11   |delata shrink | delta:0.15                     |  F_min:1.1233795594948641\n",
      "12   |delata shrink | delta:0.075                    |  F_min:1.1233795594948641\n",
      "13   |delata shrink | delta:0.0375                   |  F_min:1.1233795594948641\n",
      "14   |delata shrink | delta:0.01875                  |  F_min:1.1233795594948641\n",
      "15   |delata shrink | delta:0.009375                 |  F_min:1.1233795594948641\n",
      "16   |delata shrink | delta:0.0046875                |  F_min:1.1233795594948641\n",
      "17   |delata shrink | delta:0.00234375               |  F_min:1.1233795594948641\n",
      "18   |delata shrink | delta:0.001171875              |  F_min:1.1233795594948641\n",
      "19   |delata shrink | delta:0.0005859375             |  F_min:1.1233795594948641\n",
      "20   |delata shrink | delta:0.00029296875            |  F_min:1.1233795594948641\n",
      "21   |delata shrink | delta:0.000146484375           |  F_min:1.1233795594948641\n",
      "22   |delata shrink | delta:7.32421875e-05           |  F_min:1.1233795594948641\n",
      "23   |delata shrink | delta:3.662109375e-05          |  F_min:1.1233795594948641\n",
      "24   |delata shrink | delta:1.8310546875e-05         |  F_min:1.1233795594948641\n",
      "25   |delata shrink | delta:9.1552734375e-06         |  F_min:1.1233795594948641\n",
      "26   |delata shrink | delta:4.57763671875e-06        |  F_min:1.1233795594948641\n",
      "27   |delata shrink | delta:2.288818359375e-06       |  F_min:1.1233795594948641\n",
      "28   |delata shrink | delta:1.1444091796875e-06      |  F_min:1.1233795594948641\n",
      "29   |delata shrink | delta:5.7220458984375e-07      |  F_min:1.1233795594948641\n",
      "30   |delata shrink | delta:2.86102294921875e-07     |  F_min:1.1233795594948641\n",
      "31   |delata shrink | delta:1.430511474609375e-07    |  F_min:1.1233795594948641\n",
      "32   |delata shrink | delta:7.152557373046875e-08    |  F_min:1.1233795594948641\n",
      "33   |delata shrink | delta:3.5762786865234374e-08   |  F_min:1.1233795594948641\n",
      "34   |delata shrink | delta:1.7881393432617187e-08   |  F_min:1.1233795594948641\n",
      "35   |delata shrink | delta:8.940696716308593e-09    |  F_min:1.1233795594948641\n",
      "36   |delata shrink | delta:4.470348358154297e-09    |  F_min:1.1233795594948641\n",
      "37   |delata shrink | delta:2.2351741790771484e-09   |  F_min:1.1233795594948641\n",
      "38   |delata shrink | delta:1.1175870895385742e-09   |  F_min:1.1233795594948641\n",
      "39   |delata shrink | delta:5.587935447692871e-10    |  F_min:1.1233795594948641\n",
      "40   |delata shrink | delta:2.7939677238464354e-10   |  F_min:1.1233795594948641\n",
      "41   |delata shrink | delta:1.3969838619232177e-10   |  F_min:1.1233795594948641\n"
     ]
    },
    {
     "data": {
      "text/plain": [
       "array([1.40681061, 0.63702093, 0.17596305])"
      ]
     },
     "execution_count": 126,
     "metadata": {},
     "output_type": "execute_result"
    }
   ],
   "source": [
    "hook_jeeves(rosenbrok_3d,dim=3)"
   ]
  },
  {
   "cell_type": "code",
   "execution_count": null,
   "id": "97002ac1-fc10-448a-bfdb-c99153078ae1",
   "metadata": {},
   "outputs": [],
   "source": []
  }
 ],
 "metadata": {
  "kernelspec": {
   "display_name": "Python 3 (ipykernel)",
   "language": "python",
   "name": "python3"
  },
  "language_info": {
   "codemirror_mode": {
    "name": "ipython",
    "version": 3
   },
   "file_extension": ".py",
   "mimetype": "text/x-python",
   "name": "python",
   "nbconvert_exporter": "python",
   "pygments_lexer": "ipython3",
   "version": "3.10.10"
  }
 },
 "nbformat": 4,
 "nbformat_minor": 5
}
