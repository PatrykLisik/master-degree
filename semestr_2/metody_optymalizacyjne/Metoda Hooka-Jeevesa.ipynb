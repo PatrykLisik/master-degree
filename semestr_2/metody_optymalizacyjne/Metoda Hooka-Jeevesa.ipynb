{
 "cells": [
  {
   "cell_type": "markdown",
   "id": "69216971-7c45-4121-9d8c-db9026c9b793",
   "metadata": {},
   "source": [
    "# Metoda Hooka-Jeevesa"
   ]
  },
  {
   "cell_type": "code",
   "execution_count": 1,
   "id": "f4258c45-279d-459a-8c3b-51bba7002fab",
   "metadata": {
    "tags": []
   },
   "outputs": [],
   "source": [
    "import numpy as np"
   ]
  },
  {
   "cell_type": "code",
   "execution_count": 16,
   "id": "faa19c7b-ab9e-4d25-a546-4711e45b18a4",
   "metadata": {
    "tags": []
   },
   "outputs": [],
   "source": [
    "def generate_start(dim,a=-10,b=10):\n",
    "    return (b - a) *np.random.random_sample((dim,))+a\n",
    "\n",
    "def d(dim,i):\n",
    "    zero = np.zeros(dim)\n",
    "    zero[i]=1\n",
    "    return zero\n",
    "    \n",
    "\n",
    "def hook_jeeves(f, dim, start_point=None, step_size=np.float64(0.5), step_shrink=np.float64(0.5),\n",
    "                epsilon=np.float64(10) ** -10, max_iter=10 ** 5):\n",
    "    if start_point is None:\n",
    "        start_point = generate_start(dim)\n",
    "        print(f\"generating start - {start_point}\")\n",
    "\n",
    "    delta = step_size\n",
    "    beta = step_shrink\n",
    "    x = start_point\n",
    "\n",
    "    j = 0\n",
    "    while j < max_iter:\n",
    "        has_successful_step = False\n",
    "        z = x.copy()\n",
    "        f_min = f(x)\n",
    "        for i in range(dim):\n",
    "            di = d(dim, i)\n",
    "            zi = x + delta * di\n",
    "            F = f(zi)\n",
    "            # print(f\"i: {str(zi)} F: {F} F_min: {F_min}\")\n",
    "            if F < f_min:\n",
    "                # print(f\"i: {i} passesed F: {F} F_min:{F_min}\")\n",
    "                f_min = F\n",
    "                has_successful_step = True\n",
    "                z = zi\n",
    "            else:\n",
    "                zi = x - delta * di\n",
    "                F = f(zi)\n",
    "                # print(f\"-i: {str(zi)} F: {F} F_min: {F_min}\")\n",
    "                if F < f_min:\n",
    "                    # print(f\"-i: {i} passesed F: {F} F_min:{F_min}\")\n",
    "                    f_min = F\n",
    "                    has_successful_step = True\n",
    "                    z = zi\n",
    "\n",
    "        if has_successful_step:\n",
    "            x = z\n",
    "            # print(f\"{j:<4} | new x: {str(x):<27} |  F_min:{f_min}\")\n",
    "        else:\n",
    "            if j == 0:\n",
    "                x = generate_start(dim)\n",
    "                print(f\"new_start - {x}\")\n",
    "                f_min = f(x)\n",
    "                j = 0\n",
    "                continue\n",
    "            else:\n",
    "                # print(f\"{j:<4} | delta shrink | delta:{delta:<24} |  F_min:{f_min}\")\n",
    "                delta *= beta\n",
    "            if delta < epsilon:\n",
    "                print(f\"{j:<4} | return x: {str(x):<27} |  F_min:{f_min}\")\n",
    "                return x\n",
    "        j += 1\n",
    "        \n",
    "        \n",
    "    \n",
    "    "
   ]
  },
  {
   "cell_type": "code",
   "execution_count": null,
   "id": "7265f339-fda5-4355-b6ba-239294581de7",
   "metadata": {},
   "outputs": [],
   "source": []
  },
  {
   "cell_type": "code",
   "execution_count": 10,
   "id": "1d75ea76-6813-4464-9108-95df7b0bf03a",
   "metadata": {
    "tags": []
   },
   "outputs": [],
   "source": [
    "def rosenbrok_2d(arr):\n",
    "    x1,x2 = arr\n",
    "    return (2-x1)**2+11*(x2-x1**2)**2\n",
    "def rosenbrok_3d(arr):\n",
    "    x1,x2,x3 = arr\n",
    "    return ((1-x1)**2+18*(x2-x1**2)**2)+((1-x2)**2+18*(x3-x2**2)**2)"
   ]
  },
  {
   "cell_type": "code",
   "execution_count": 17,
   "id": "ff71c71d-9641-447a-a5ba-feb8b3a39edb",
   "metadata": {
    "tags": []
   },
   "outputs": [
    {
     "name": "stdout",
     "output_type": "stream",
     "text": [
      "generating start - [ 4.92710483 -8.47350976]\n",
      "11247 | new x: [1.99999999 3.99999995]     |  F_min:1.556829388934053e-16\n"
     ]
    },
    {
     "data": {
      "text/plain": [
       "array([1.99999999, 3.99999995])"
      ]
     },
     "execution_count": 17,
     "metadata": {},
     "output_type": "execute_result"
    }
   ],
   "source": [
    "hook_jeeves(rosenbrok_2d,dim=2)"
   ]
  },
  {
   "cell_type": "code",
   "execution_count": 19,
   "id": "8cfa93ab-1986-4d16-9c81-6daa44bb0776",
   "metadata": {},
   "outputs": [
    {
     "name": "stdout",
     "output_type": "stream",
     "text": [
      "generating start - [-7.5759296   1.28278612  3.58244822]\n",
      "4906 | new x: [1.         1.         0.99999999] |  F_min:1.632783165276734e-17\n"
     ]
    },
    {
     "data": {
      "text/plain": [
       "array([1.        , 1.        , 0.99999999])"
      ]
     },
     "execution_count": 19,
     "metadata": {},
     "output_type": "execute_result"
    }
   ],
   "source": [
    "hook_jeeves(rosenbrok_3d,dim=3)"
   ]
  },
  {
   "cell_type": "code",
   "execution_count": null,
   "id": "97002ac1-fc10-448a-bfdb-c99153078ae1",
   "metadata": {},
   "outputs": [],
   "source": []
  }
 ],
 "metadata": {
  "kernelspec": {
   "display_name": "Python 3 (ipykernel)",
   "language": "python",
   "name": "python3"
  },
  "language_info": {
   "codemirror_mode": {
    "name": "ipython",
    "version": 3
   },
   "file_extension": ".py",
   "mimetype": "text/x-python",
   "name": "python",
   "nbconvert_exporter": "python",
   "pygments_lexer": "ipython3",
   "version": "3.10.10"
  }
 },
 "nbformat": 4,
 "nbformat_minor": 5
}
