{
 "cells": [
  {
   "cell_type": "markdown",
   "metadata": {
    "tags": []
   },
   "source": [
    "# Problem plecakowy "
   ]
  },
  {
   "cell_type": "markdown",
   "metadata": {},
   "source": [
    "\n"
   ]
  },
  {
   "cell_type": "code",
   "execution_count": 1,
   "metadata": {
    "tags": []
   },
   "outputs": [],
   "source": [
    "import numpy as np\n"
   ]
  },
  {
   "cell_type": "markdown",
   "metadata": {},
   "source": [
    "## Metoda zachłanna"
   ]
  },
  {
   "cell_type": "code",
   "execution_count": 2,
   "metadata": {
    "tags": []
   },
   "outputs": [
    {
     "data": {
      "text/plain": [
       "array([(b'P1',  8,  5, 5), (b'P2',  8,  9, 6), (b'P3', 10,  6, 7),\n",
       "       (b'P4', 11,  8, 2), (b'P5',  4, 12, 1), (b'P6',  5, 11, 3)],\n",
       "      dtype=[('name', 'S3'), ('price', '<i8'), ('weigth', '<i8'), ('count', '<i8')])"
      ]
     },
     "execution_count": 2,
     "metadata": {},
     "output_type": "execute_result"
    }
   ],
   "source": [
    "max_weigth = 100\n",
    "# Item | Price | Weigth | Count |\n",
    "dtype = [('name', 'S3'), ('price', int), ('weigth', int),('count', int)]\n",
    "items = np.array([ \n",
    "    (\"P1\", 8, 5, 5),\n",
    "    (\"P2\", 8, 9, 6),\n",
    "    (\"P3\", 10, 6, 7),\n",
    "    (\"P4\", 11, 8, 2),\n",
    "    (\"P5\", 4, 12, 1),\n",
    "    (\"P6\", 5, 11, 3)],\n",
    "dtype=dtype\n",
    ")\n",
    "items"
   ]
  },
  {
   "cell_type": "code",
   "execution_count": 3,
   "metadata": {
    "tags": []
   },
   "outputs": [
    {
     "data": {
      "text/plain": [
       "array([(b'P1',  8,  5, 5, 1.6       ), (b'P2',  8,  9, 6, 0.8888889 ),\n",
       "       (b'P3', 10,  6, 7, 1.6666666 ), (b'P4', 11,  8, 2, 1.375     ),\n",
       "       (b'P5',  4, 12, 1, 0.33333334), (b'P6',  5, 11, 3, 0.45454547)],\n",
       "      dtype=[('name', 'S3'), ('price', '<i8'), ('weigth', '<i8'), ('count', '<i8'), ('cost_efficiency', '<f4')])"
      ]
     },
     "execution_count": 3,
     "metadata": {},
     "output_type": "execute_result"
    }
   ],
   "source": [
    "cost_efficiency = items[\"price\"]/items[\"weigth\"]\n",
    "new_items = []\n",
    "for item, ce in zip(items,cost_efficiency):\n",
    "    new_items.append((*item, ce))\n",
    "new_items = np.array(new_items, dtype=[*dtype,(\"cost_efficiency\", np.float32)])\n",
    "new_items"
   ]
  },
  {
   "cell_type": "code",
   "execution_count": 4,
   "metadata": {
    "tags": []
   },
   "outputs": [],
   "source": [
    "def greedy_alg(items, max_weigth):\n",
    "    current_weigth = 0\n",
    "    picked_items = {}\n",
    "    price_sum = 0\n",
    "    for item in items:\n",
    "        weigth_left = max_weigth - current_weigth\n",
    "        item_count = np.min([np.floor(weigth_left/item[\"weigth\"]), item[\"count\"]])\n",
    "        picked_items[item[\"name\"]]=item_count\n",
    "        current_weigth+=item_count*item[\"weigth\"]\n",
    "        price_sum+=item_count*item[\"price\"]\n",
    "    return picked_items,price_sum"
   ]
  },
  {
   "cell_type": "markdown",
   "metadata": {},
   "source": [
    "### Sortowanie po cenie"
   ]
  },
  {
   "cell_type": "code",
   "execution_count": 5,
   "metadata": {
    "tags": []
   },
   "outputs": [
    {
     "data": {
      "text/plain": [
       "array([(b'P4', 11,  8, 2, 1.375     ), (b'P3', 10,  6, 7, 1.6666666 ),\n",
       "       (b'P2',  8,  9, 6, 0.8888889 ), (b'P1',  8,  5, 5, 1.6       ),\n",
       "       (b'P6',  5, 11, 3, 0.45454547), (b'P5',  4, 12, 1, 0.33333334)],\n",
       "      dtype=[('name', 'S3'), ('price', '<i8'), ('weigth', '<i8'), ('count', '<i8'), ('cost_efficiency', '<f4')])"
      ]
     },
     "execution_count": 5,
     "metadata": {},
     "output_type": "execute_result"
    }
   ],
   "source": [
    "new_items.sort(order=\"price\")\n",
    "new_items = np.flip(new_items)\n",
    "new_items"
   ]
  },
  {
   "cell_type": "code",
   "execution_count": 6,
   "metadata": {
    "tags": []
   },
   "outputs": [
    {
     "data": {
      "text/plain": [
       "{b'P4': 2.0, b'P3': 7.0, b'P2': 4.0, b'P1': 1.0, b'P6': 0.0, b'P5': 0.0}"
      ]
     },
     "execution_count": 6,
     "metadata": {},
     "output_type": "execute_result"
    }
   ],
   "source": [
    "picked_items,price_sum = greedy_alg(new_items,max_weigth)\n",
    "picked_items"
   ]
  },
  {
   "cell_type": "code",
   "execution_count": 7,
   "metadata": {
    "tags": []
   },
   "outputs": [
    {
     "data": {
      "text/plain": [
       "132.0"
      ]
     },
     "execution_count": 7,
     "metadata": {},
     "output_type": "execute_result"
    }
   ],
   "source": [
    "price_sum"
   ]
  },
  {
   "cell_type": "markdown",
   "metadata": {},
   "source": [
    "### Sortowanie po masie"
   ]
  },
  {
   "cell_type": "code",
   "execution_count": 8,
   "metadata": {
    "tags": []
   },
   "outputs": [
    {
     "data": {
      "text/plain": [
       "array([(b'P1',  8,  5, 5, 1.6       ), (b'P3', 10,  6, 7, 1.6666666 ),\n",
       "       (b'P4', 11,  8, 2, 1.375     ), (b'P2',  8,  9, 6, 0.8888889 ),\n",
       "       (b'P6',  5, 11, 3, 0.45454547), (b'P5',  4, 12, 1, 0.33333334)],\n",
       "      dtype=[('name', 'S3'), ('price', '<i8'), ('weigth', '<i8'), ('count', '<i8'), ('cost_efficiency', '<f4')])"
      ]
     },
     "execution_count": 8,
     "metadata": {},
     "output_type": "execute_result"
    }
   ],
   "source": [
    "new_items.sort(order=\"weigth\")\n",
    "# new_items = np.flip(new_items)\n",
    "new_items"
   ]
  },
  {
   "cell_type": "code",
   "execution_count": 9,
   "metadata": {
    "tags": []
   },
   "outputs": [
    {
     "data": {
      "text/plain": [
       "{b'P1': 5.0, b'P3': 7.0, b'P4': 2.0, b'P2': 1.0, b'P6': 0.0, b'P5': 0.0}"
      ]
     },
     "execution_count": 9,
     "metadata": {},
     "output_type": "execute_result"
    }
   ],
   "source": [
    "picked_items,price_sum = greedy_alg(new_items,max_weigth)\n",
    "picked_items\n"
   ]
  },
  {
   "cell_type": "code",
   "execution_count": 10,
   "metadata": {
    "tags": []
   },
   "outputs": [
    {
     "data": {
      "text/plain": [
       "140.0"
      ]
     },
     "execution_count": 10,
     "metadata": {},
     "output_type": "execute_result"
    }
   ],
   "source": [
    "price_sum"
   ]
  },
  {
   "cell_type": "markdown",
   "metadata": {},
   "source": [
    "### Sortowanie po opłacalności"
   ]
  },
  {
   "cell_type": "code",
   "execution_count": 11,
   "metadata": {
    "tags": []
   },
   "outputs": [
    {
     "data": {
      "text/plain": [
       "array([(b'P3', 10,  6, 7, 1.6666666 ), (b'P1',  8,  5, 5, 1.6       ),\n",
       "       (b'P4', 11,  8, 2, 1.375     ), (b'P2',  8,  9, 6, 0.8888889 ),\n",
       "       (b'P6',  5, 11, 3, 0.45454547), (b'P5',  4, 12, 1, 0.33333334)],\n",
       "      dtype=[('name', 'S3'), ('price', '<i8'), ('weigth', '<i8'), ('count', '<i8'), ('cost_efficiency', '<f4')])"
      ]
     },
     "execution_count": 11,
     "metadata": {},
     "output_type": "execute_result"
    }
   ],
   "source": [
    "new_items.sort(order=\"cost_efficiency\")\n",
    "new_items = np.flip(new_items)\n",
    "new_items\n"
   ]
  },
  {
   "cell_type": "code",
   "execution_count": 12,
   "metadata": {
    "tags": []
   },
   "outputs": [
    {
     "data": {
      "text/plain": [
       "{b'P3': 7.0, b'P1': 5.0, b'P4': 2.0, b'P2': 1.0, b'P6': 0.0, b'P5': 0.0}"
      ]
     },
     "execution_count": 12,
     "metadata": {},
     "output_type": "execute_result"
    }
   ],
   "source": [
    "picked_items,price_sum = greedy_alg(new_items,max_weigth)\n",
    "picked_items"
   ]
  },
  {
   "cell_type": "code",
   "execution_count": 13,
   "metadata": {
    "tags": []
   },
   "outputs": [
    {
     "data": {
      "text/plain": [
       "140.0"
      ]
     },
     "execution_count": 13,
     "metadata": {},
     "output_type": "execute_result"
    }
   ],
   "source": [
    "price_sum"
   ]
  },
  {
   "cell_type": "markdown",
   "metadata": {},
   "source": [
    "## Programowanie dynamiczne"
   ]
  },
  {
   "cell_type": "code",
   "execution_count": 14,
   "metadata": {
    "tags": []
   },
   "outputs": [],
   "source": [
    "max_weigth = 30"
   ]
  },
  {
   "cell_type": "code",
   "execution_count": 15,
   "metadata": {
    "tags": []
   },
   "outputs": [
    {
     "data": {
      "text/plain": [
       "array([(b'P1',  8.,  5), (b'P2',  8.,  9), (b'P3', 10.,  6),\n",
       "       (b'P4', 11.,  8), (b'P5',  4., 12), (b'P6',  5., 11)],\n",
       "      dtype=[('name', 'S3'), ('price', '<f4'), ('weigh', '<i8')])"
      ]
     },
     "execution_count": 15,
     "metadata": {},
     "output_type": "execute_result"
    }
   ],
   "source": [
    "# Item | Price | Weigth |\n",
    "dtype = [('name', 'S3'), ('price', np.float32), ('weigh', int)]\n",
    "items = np.array([ \n",
    "   (\"P1\", 8, 5),\n",
    "    (\"P2\", 8, 9),\n",
    "    (\"P3\", 10, 6),\n",
    "    (\"P4\", 11, 8),\n",
    "   (\"P5\", 4, 12),\n",
    "    (\"P6\", 5, 11)], \n",
    "dtype=dtype\n",
    ")\n",
    "items"
   ]
  },
  {
   "cell_type": "code",
   "execution_count": 19,
   "metadata": {
    "tags": []
   },
   "outputs": [
    {
     "data": {
      "text/plain": [
       "(7, 31)"
      ]
     },
     "execution_count": 19,
     "metadata": {},
     "output_type": "execute_result"
    }
   ],
   "source": [
    "search_table  = np.zeros(shape = (items.shape[0]+1, max_weigth+1))\n",
    "search_table.shape"
   ]
  },
  {
   "cell_type": "code",
   "execution_count": 20,
   "metadata": {},
   "outputs": [
    {
     "data": {
      "text/plain": [
       "array([[ 0.,  0.,  0.,  0.,  0.,  0.,  0.,  0.,  0.,  0.,  0.,  0.,  0.,  0.,  0.,  0.,  0.,  0.,  0.,  0.,  0.,  0.,  0.,  0.,  0.,  0.,  0.,  0.,  0.,  0.,  0.],\n",
       "       [ 0.,  0.,  0.,  0.,  0.,  8.,  8.,  8.,  8.,  8.,  8.,  8.,  8.,  8.,  8.,  8.,  8.,  8.,  8.,  8.,  8.,  8.,  8.,  8.,  8.,  8.,  8.,  8.,  8.,  8.,  8.],\n",
       "       [ 0.,  0.,  0.,  0.,  0.,  0.,  0.,  0.,  0.,  8.,  8.,  8.,  8.,  8., 16., 16., 16., 16., 16., 16., 16., 16., 16., 16., 16., 16., 16., 16., 16., 16., 16.],\n",
       "       [ 0.,  0.,  0.,  0.,  0.,  0., 10., 10., 10., 10., 10., 10., 10., 10., 16., 18., 18., 18., 18., 18., 26., 26., 26., 26., 26., 26., 26., 26., 26., 26., 26.],\n",
       "       [ 0.,  0.,  0.,  0.,  0.,  0.,  0.,  0., 11., 11., 11., 11., 11., 11., 21., 21., 21., 21., 21., 21., 26., 26., 27., 29., 29., 29., 29., 29., 37., 37., 37.],\n",
       "       [ 0.,  0.,  0.,  0.,  0.,  0.,  0.,  0.,  0.,  0.,  0.,  0., 11., 11., 21., 21., 21., 21., 21., 21., 26., 26., 27., 29., 29., 29., 29., 29., 37., 37., 37.],\n",
       "       [ 0.,  0.,  0.,  0.,  0.,  0.,  0.,  0.,  0.,  0.,  0.,  5., 11., 11., 21., 21., 21., 21., 21., 21., 26., 26., 27., 29., 29., 29., 29., 29., 37., 37., 37.]])"
      ]
     },
     "execution_count": 20,
     "metadata": {},
     "output_type": "execute_result"
    }
   ],
   "source": [
    "for row_index, item in enumerate(items):\n",
    "    row_index+=1\n",
    "    for column_index in range(item[\"weigh\"], search_table.shape[1]):\n",
    "        cell_up_value = search_table[row_index-1][column_index]\n",
    "        add_product_value = search_table[row_index-1][column_index-item[\"weigh\"]]+item[\"price\"]\n",
    "        search_table[row_index][column_index] = np.max([cell_up_value,add_product_value])\n",
    "search_table                                     "
   ]
  },
  {
   "cell_type": "code",
   "execution_count": 22,
   "metadata": {
    "tags": []
   },
   "outputs": [
    {
     "data": {
      "text/plain": [
       "array([[ 0.,  0.,  0.,  0.,  0.,  0.,  0.,  0.,  0.,  0.,  0.,  0.,  0.,  0.,  0.,  0.,  0.,  0.,  0.,  0.,  0.,  0.,  0.,  0.,  0.,  0.,  0.,  0.,  0.,  0.,  0.],\n",
       "       [ 0.,  0.,  0.,  0.,  0.,  8.,  8.,  8.,  8.,  8.,  8.,  8.,  8.,  8.,  8.,  8.,  8.,  8.,  8.,  8.,  8.,  8.,  8.,  8.,  8.,  8.,  8.,  8.,  8.,  8.,  8.],\n",
       "       [ 0.,  0.,  0.,  0.,  0.,  0.,  0.,  0.,  0.,  8.,  8.,  8.,  8.,  8., 16., 16., 16., 16., 16., 16., 16., 16., 16., 16., 16., 16., 16., 16., 16., 16., 16.],\n",
       "       [ 0.,  0.,  0.,  0.,  0.,  0., 10., 10., 10., 10., 10., 10., 10., 10., 16., 18., 18., 18., 18., 18., 26., 26., 26., 26., 26., 26., 26., 26., 26., 26., 26.],\n",
       "       [ 0.,  0.,  0.,  0.,  0.,  0.,  0.,  0., 11., 11., 11., 11., 11., 11., 21., 21., 21., 21., 21., 21., 26., 26., 27., 29., 29., 29., 29., 29., 37., 37., 37.],\n",
       "       [ 0.,  0.,  0.,  0.,  0.,  0.,  0.,  0.,  0.,  0.,  0.,  0., 11., 11., 21., 21., 21., 21., 21., 21., 26., 26., 27., 29., 29., 29., 29., 29., 37., 37., 37.],\n",
       "       [ 0.,  0.,  0.,  0.,  0.,  0.,  0.,  0.,  0.,  0.,  0.,  5., 11., 11., 21., 21., 21., 21., 21., 21., 26., 26., 27., 29., 29., 29., 29., 29., 37., 37., 37.]])"
      ]
     },
     "execution_count": 22,
     "metadata": {},
     "output_type": "execute_result"
    }
   ],
   "source": [
    "np.set_printoptions(linewidth=300)\n",
    "search_table"
   ]
  },
  {
   "cell_type": "code",
   "execution_count": null,
   "metadata": {},
   "outputs": [],
   "source": []
  },
  {
   "cell_type": "code",
   "execution_count": null,
   "metadata": {},
   "outputs": [],
   "source": []
  },
  {
   "cell_type": "code",
   "execution_count": null,
   "metadata": {},
   "outputs": [],
   "source": []
  }
 ],
 "metadata": {
  "kernelspec": {
   "display_name": "Python 3 (ipykernel)",
   "language": "python",
   "name": "python3"
  },
  "language_info": {
   "codemirror_mode": {
    "name": "ipython",
    "version": 3
   },
   "file_extension": ".py",
   "mimetype": "text/x-python",
   "name": "python",
   "nbconvert_exporter": "python",
   "pygments_lexer": "ipython3",
   "version": "3.10.10"
  }
 },
 "nbformat": 4,
 "nbformat_minor": 4
}
