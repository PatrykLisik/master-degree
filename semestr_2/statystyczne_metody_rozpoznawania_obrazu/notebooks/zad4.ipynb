{
 "cells": [
  {
   "cell_type": "markdown",
   "id": "bf0c385d-e72a-48b9-912c-537f5c5ee6d9",
   "metadata": {},
   "source": [
    "# Zadanie \n",
    "![image.png](attachment:b6613f22-884a-47ba-ba7c-5c1faeea6861.png)"
   ]
  },
  {
   "cell_type": "markdown",
   "id": "55addf32-e26f-426e-b357-5e1f61b3698a",
   "metadata": {},
   "source": [
    "## Definicja algorytmu\n",
    "1. Wyznacz środki ciężkości a oraz b klasy 1 oraz klasy 2 odpowiednio;\n",
    "2. Wyznacz hiperpłaszczyznę $g_B(x)=0$ przechodzącą przez punkt b i prostopadłą do wektora o początku b i końcu a, tzn. a-b jest jej wektorem normalnym.\n",
    "3. Wśród punktów z klasy 1 znajdź punkt c dla którego funkcja $g_B(x)$ osiąga minimum, a wśród punktów z klasy 2 punkt d dla którego funkcja $g_B(x)$ osiąga maksimum, a następnie wyznacz dwie hiperpłaszczyzny $g_C(x)=0$ oraz $g_D(x)=0$ przechodzące odpowiednio przez punkty c i d, równoległe do hiperpłaszczyzny $g_B(x)=0$, tzn. mające wektor a-b jako wektor normalny.\n",
    "4. Jeżeli punkt c leży po stronie punktu a, a punkt d po stronie punktu b, tj. $g_B(c)>g_B(d)$, to skocz do punktu 8.\n",
    "5. Jeśli $g_B(c) \\ge g_B(d)$, to znajdź liczbę l1 takich punktów x z klasy 1 oraz liczbę l2 takich punktów x z klasy 2, że $g_C(x)\\ge -eps$ i $g_D(x)\\le eps$ (przyjmij eps=0,0001.\n",
    "6. Jeżeli $l1>l2$, to usuń punkt d. Gdy zaś $l2>l1$, to usuń punkt c. W przypadku, gdy $l1=l2$ oraz $l1>0$, to usuń zarówno punkt c jak i d.\n",
    "7. Skocz do punktu 3.\n",
    "8. Wyznacz funkcję $h(x)=gC(x)+gD(x)$.\n",
    "9. Dokonaj klasyfikacji wszystkich obiektów zbioru uczącego z użyciem otrzymanej w punkcie 8 funkcji dyskryminacyjnej $h(x)$."
   ]
  },
  {
   "cell_type": "code",
   "execution_count": 1,
   "id": "bb5311da-7d8a-49ea-8373-995b09fcf95d",
   "metadata": {
    "tags": []
   },
   "outputs": [],
   "source": [
    "import numpy as np"
   ]
  },
  {
   "cell_type": "code",
   "execution_count": 2,
   "id": "58187c8a-3c68-4276-a815-e182eb7a79cb",
   "metadata": {
    "tags": []
   },
   "outputs": [],
   "source": [
    "train_file_path = \"../data/iris_trn.txt\"\n",
    "train_data = np.genfromtxt(train_file_path, delimiter=\"  \", skip_header=1, dtype=np.float128)\n",
    "# train_data"
   ]
  },
  {
   "cell_type": "code",
   "execution_count": 3,
   "id": "e01af39d-8869-48fe-bbcd-117fb82df989",
   "metadata": {
    "tags": []
   },
   "outputs": [
    {
     "data": {
      "text/plain": [
       "array([2. , 5.5, 2.3, 4. , 1.3], dtype=float128)"
      ]
     },
     "execution_count": 3,
     "metadata": {},
     "output_type": "execute_result"
    }
   ],
   "source": [
    "train_data[28]"
   ]
  },
  {
   "cell_type": "code",
   "execution_count": null,
   "id": "8c7cb7a5-5b1a-4f4f-afd7-e00795c77511",
   "metadata": {},
   "outputs": [],
   "source": []
  },
  {
   "cell_type": "code",
   "execution_count": 4,
   "id": "050596cd-69d1-42d8-99f6-eb0365e31c16",
   "metadata": {
    "tags": []
   },
   "outputs": [],
   "source": [
    "class_1 = 2\n",
    "class_2 =3\n",
    "classes = [class_1, class_2]"
   ]
  },
  {
   "cell_type": "code",
   "execution_count": 17,
   "id": "1af64df9-f22a-4a88-b0ab-504ba19c3936",
   "metadata": {
    "tags": []
   },
   "outputs": [
    {
     "data": {
      "text/plain": [
       "(array([6.012, 2.776, 4.312, 1.344], dtype=float128),\n",
       " array([6.576, 2.928, 5.64 , 2.044], dtype=float128))"
      ]
     },
     "execution_count": 17,
     "metadata": {},
     "output_type": "execute_result"
    }
   ],
   "source": [
    "class_1_data = train_data[train_data[:, 0] == class_1][:,1:]\n",
    "class_2_data = train_data[train_data[:, 0] == class_2][:,1:]\n",
    "a= np.mean(class_1_data,axis=0)\n",
    "b= np.mean(class_2_data,axis=0)\n",
    "plane_vec = a-b\n",
    "\n",
    "a,b"
   ]
  },
  {
   "cell_type": "markdown",
   "id": "5d615d62-d370-478e-a2cd-73ffe77c2d26",
   "metadata": {},
   "source": [
    "## Równanie płaszczyzny\n",
    "Równanie płaszczyzny $\\pi$ przechodzącej przez punkt $P_0(x_0,y_0,...) $ i prostopadłej do\n",
    "wektora niezerowego $\\vec{V} = [A,B,C...] $ \n",
    "$$ \\pi: A(x-x_0)+B(y-y_0)+... = 0$$\n",
    "\n",
    "## Równanie wektora\n",
    "Dla dwóch punktów $A(x_a,y_a,...)$ i  $B(x_b,y_b,...)$ wektor normalny ma postać $\\vec{V} =[x_a-x_b, y_a - y_b, ... ] $"
   ]
  },
  {
   "cell_type": "code",
   "execution_count": 18,
   "id": "ebe1200b-8452-4389-a2e2-4aa58b823703",
   "metadata": {
    "tags": []
   },
   "outputs": [],
   "source": [
    "def get_plane_equatrion(start_point, normal_vetor):\n",
    "    def plane_equatrion(point):\n",
    "        return np.inner(normal_vetor,point-start_point )\n",
    "    return plane_equatrion\n",
    "\n",
    "gb = get_plane_equatrion(b, plane_vec)"
   ]
  },
  {
   "cell_type": "code",
   "execution_count": 19,
   "id": "8a4a731c-5431-46cf-a275-bfe9ec9c323b",
   "metadata": {
    "tags": []
   },
   "outputs": [],
   "source": [
    "\n",
    "eps = 10**(-5)"
   ]
  },
  {
   "cell_type": "code",
   "execution_count": 20,
   "id": "b9ef165c-0de8-41b8-861e-a04158f344a3",
   "metadata": {
    "tags": []
   },
   "outputs": [
    {
     "data": {
      "text/plain": [
       "(25, 25)"
      ]
     },
     "execution_count": 20,
     "metadata": {},
     "output_type": "execute_result"
    }
   ],
   "source": [
    "c = min(class_1_data, key=gb)\n",
    "d = max(class_2_data, key=gb)\n",
    "gc  = get_plane_equatrion(c, plane_vec)\n",
    "gd = get_plane_equatrion(d, plane_vec)\n",
    "\n",
    "# if gb(c)>gb(d):\n",
    "#     break\n",
    "\n",
    "l1 = np.sum(gc(class_1_data)>=-eps)\n",
    "l2 = np.sum(gd(class_2_data)<=eps)\n",
    "\n",
    "l1,l2    \n"
   ]
  },
  {
   "cell_type": "code",
   "execution_count": 9,
   "id": "74da707c-11bb-496e-86de-810af1566915",
   "metadata": {
    "tags": []
   },
   "outputs": [
    {
     "data": {
      "text/plain": [
       "array([[7. , 3.2, 4.7, 1.4],\n",
       "       [6.4, 3.2, 4.5, 1.5],\n",
       "       [6.9, 3.1, 4.9, 1.5],\n",
       "       [5.5, 2.3, 4. , 1.3],\n",
       "       [6.5, 2.8, 4.6, 1.5],\n",
       "       [5.7, 2.8, 4.5, 1.3],\n",
       "       [6.3, 3.3, 4.7, 1.6],\n",
       "       [4.9, 2.4, 3.3, 1. ],\n",
       "       [6.6, 2.9, 4.6, 1.3],\n",
       "       [5.2, 2.7, 3.9, 1.4],\n",
       "       [5. , 2. , 3.5, 1. ],\n",
       "       [5.9, 3. , 4.2, 1.5],\n",
       "       [6. , 2.2, 4. , 1. ],\n",
       "       [6.1, 2.9, 4.7, 1.4],\n",
       "       [5.6, 2.9, 3.6, 1.3],\n",
       "       [6.7, 3.1, 4.4, 1.4],\n",
       "       [5.6, 3. , 4.5, 1.5],\n",
       "       [5.8, 2.7, 4.1, 1. ],\n",
       "       [6.2, 2.2, 4.5, 1.5],\n",
       "       [5.6, 2.5, 3.9, 1.1],\n",
       "       [5.9, 3.2, 4.8, 1.8],\n",
       "       [6.1, 2.8, 4. , 1.3],\n",
       "       [6.3, 2.5, 4.9, 1.5],\n",
       "       [6.1, 2.8, 4.7, 1.2],\n",
       "       [6.4, 2.9, 4.3, 1.3]], dtype=float128)"
      ]
     },
     "execution_count": 9,
     "metadata": {},
     "output_type": "execute_result"
    }
   ],
   "source": [
    "class_1_data"
   ]
  },
  {
   "cell_type": "code",
   "execution_count": 10,
   "id": "23e88d12-1e0c-46b4-b8f6-46a25dadad5a",
   "metadata": {
    "tags": []
   },
   "outputs": [
    {
     "data": {
      "text/plain": [
       "(array([4.9, 2.4, 3.3, 1. ], dtype=float128),\n",
       " array([7.7, 2.6, 6.9, 2.3], dtype=float128))"
      ]
     },
     "execution_count": 10,
     "metadata": {},
     "output_type": "execute_result"
    }
   ],
   "source": [
    "c,d"
   ]
  },
  {
   "cell_type": "code",
   "execution_count": 11,
   "id": "c41fe5f3-bcc8-4f5b-927e-92cb6ae35096",
   "metadata": {
    "tags": []
   },
   "outputs": [
    {
     "data": {
      "text/plain": [
       "array([1. , 5.1, 3.8, 1.5, 0.3], dtype=float128)"
      ]
     },
     "execution_count": 11,
     "metadata": {},
     "output_type": "execute_result"
    }
   ],
   "source": [
    "train_data[19]"
   ]
  },
  {
   "cell_type": "code",
   "execution_count": 12,
   "id": "1c986e00-4296-454c-84b4-ecc47a0db357",
   "metadata": {
    "tags": []
   },
   "outputs": [
    {
     "data": {
      "text/plain": [
       "(array([6.012, 2.776, 4.312, 1.344], dtype=float128),\n",
       " array([6.576, 2.928, 5.64 , 2.044], dtype=float128))"
      ]
     },
     "execution_count": 12,
     "metadata": {},
     "output_type": "execute_result"
    }
   ],
   "source": [
    "a,b"
   ]
  },
  {
   "cell_type": "code",
   "execution_count": null,
   "id": "ea195160-93b9-4cf2-a869-ddc7308c942c",
   "metadata": {},
   "outputs": [],
   "source": []
  },
  {
   "cell_type": "code",
   "execution_count": 13,
   "id": "4c17ca67-67a7-4454-85d6-1de3da7db139",
   "metadata": {
    "tags": []
   },
   "outputs": [
    {
     "data": {
      "text/plain": [
       "array([[7. , 3.2, 4.7, 1.4],\n",
       "       [6.4, 3.2, 4.5, 1.5],\n",
       "       [6.9, 3.1, 4.9, 1.5],\n",
       "       [5.5, 2.3, 4. , 1.3],\n",
       "       [6.5, 2.8, 4.6, 1.5],\n",
       "       [5.7, 2.8, 4.5, 1.3],\n",
       "       [6.3, 3.3, 4.7, 1.6],\n",
       "       [4.9, 2.4, 3.3, 1. ],\n",
       "       [6.6, 2.9, 4.6, 1.3],\n",
       "       [5.2, 2.7, 3.9, 1.4],\n",
       "       [5. , 2. , 3.5, 1. ],\n",
       "       [5.9, 3. , 4.2, 1.5],\n",
       "       [6. , 2.2, 4. , 1. ],\n",
       "       [6.1, 2.9, 4.7, 1.4],\n",
       "       [5.6, 2.9, 3.6, 1.3],\n",
       "       [6.7, 3.1, 4.4, 1.4],\n",
       "       [5.6, 3. , 4.5, 1.5],\n",
       "       [5.8, 2.7, 4.1, 1. ],\n",
       "       [6.2, 2.2, 4.5, 1.5],\n",
       "       [5.6, 2.5, 3.9, 1.1],\n",
       "       [5.9, 3.2, 4.8, 1.8],\n",
       "       [6.1, 2.8, 4. , 1.3],\n",
       "       [6.3, 2.5, 4.9, 1.5],\n",
       "       [6.1, 2.8, 4.7, 1.2],\n",
       "       [6.4, 2.9, 4.3, 1.3]], dtype=float128)"
      ]
     },
     "execution_count": 13,
     "metadata": {},
     "output_type": "execute_result"
    }
   ],
   "source": [
    "class_1_data"
   ]
  },
  {
   "cell_type": "code",
   "execution_count": 14,
   "id": "0d340f02-b90d-4310-a20c-3310c27724d5",
   "metadata": {
    "tags": []
   },
   "outputs": [
    {
     "name": "stdout",
     "output_type": "stream",
     "text": [
      "(array([4.9, 2.4, 3.3, 1. ], dtype=float128),)=[-2.269056]\n",
      "(array([5. , 2. , 3.5, 1. ], dtype=float128),)=[-2.007856]\n",
      "(array([5.6, 2.9, 3.6, 1.3], dtype=float128),)=[-1.189856]\n",
      "(array([5.6, 2.5, 3.9, 1.1], dtype=float128),)=[-0.992256]\n",
      "(array([5.2, 2.7, 3.9, 1.4], dtype=float128),)=[-0.977456]\n",
      "(array([5.5, 2.3, 4. , 1.3], dtype=float128),)=[-0.806256]\n",
      "(array([6. , 2.2, 4. , 1. ], dtype=float128),)=[-0.749456]\n",
      "(array([5.8, 2.7, 4.1, 1. ], dtype=float128),)=[-0.653456]\n",
      "(array([6.1, 2.8, 4. , 1.3], dtype=float128),)=[-0.391856]\n",
      "(array([5.9, 3. , 4.2, 1.5], dtype=float128),)=[-0.068656]\n",
      "(array([5.7, 2.8, 4.5, 1.3], dtype=float128),)=[0.046544]\n",
      "(array([5.6, 3. , 4.5, 1.5], dtype=float128),)=[0.160544]\n",
      "(array([6.4, 2.9, 4.3, 1.3], dtype=float128),)=[0.190944]\n",
      "(array([6.2, 2.2, 4.5, 1.5], dtype=float128),)=[0.377344]\n",
      "(array([6.1, 2.8, 4.7, 1.2], dtype=float128),)=[0.467744]\n",
      "(array([6.7, 3.1, 4.4, 1.4], dtype=float128),)=[0.593344]\n",
      "(array([6.1, 2.9, 4.7, 1.4], dtype=float128),)=[0.622944]\n",
      "(array([6.4, 3.2, 4.5, 1.5], dtype=float128),)=[0.642144]\n",
      "(array([6.6, 2.9, 4.6, 1.3], dtype=float128),)=[0.702144]\n",
      "(array([6.5, 2.8, 4.6, 1.5], dtype=float128),)=[0.770544]\n",
      "(array([6.3, 3.3, 4.7, 1.6], dtype=float128),)=[0.936544]\n",
      "(array([5.9, 3.2, 4.8, 1.8], dtype=float128),)=[0.968544]\n",
      "(array([6.3, 2.5, 4.9, 1.5], dtype=float128),)=[1.010544]\n",
      "(array([7. , 3.2, 4.7, 1.4], dtype=float128),)=[1.176144]\n",
      "(array([6.9, 3.1, 4.9, 1.5], dtype=float128),)=[1.440144]\n"
     ]
    }
   ],
   "source": [
    "for p in zip(sorted(class_1_data, key=gb)):\n",
    "    print(f\"{p}={gb(p)}\")"
   ]
  },
  {
   "cell_type": "code",
   "execution_count": 15,
   "id": "f3d84696-605b-4886-bb3f-49e8af8f2f53",
   "metadata": {
    "tags": []
   },
   "outputs": [
    {
     "data": {
      "text/plain": [
       "array([2. , 5.5, 2.3, 4. , 1.3], dtype=float128)"
      ]
     },
     "execution_count": 15,
     "metadata": {},
     "output_type": "execute_result"
    }
   ],
   "source": [
    "train_data[28]"
   ]
  },
  {
   "cell_type": "code",
   "execution_count": null,
   "id": "a96c77f9-96c1-4217-833a-5e4ee553232a",
   "metadata": {},
   "outputs": [],
   "source": []
  },
  {
   "cell_type": "code",
   "execution_count": null,
   "id": "bd4e225f-862f-49bd-9e5b-4e8120789bbe",
   "metadata": {},
   "outputs": [],
   "source": []
  },
  {
   "cell_type": "code",
   "execution_count": null,
   "id": "7cc5b952-091e-4746-9dca-b53e0b4ff2ba",
   "metadata": {},
   "outputs": [],
   "source": []
  },
  {
   "cell_type": "code",
   "execution_count": null,
   "id": "be9c4696-3dd1-47b8-8756-8be490bcbdee",
   "metadata": {},
   "outputs": [],
   "source": []
  },
  {
   "cell_type": "code",
   "execution_count": null,
   "id": "f11dd3cc-c65f-484c-93c5-0995cdb537d3",
   "metadata": {
    "tags": []
   },
   "outputs": [],
   "source": []
  },
  {
   "cell_type": "code",
   "execution_count": null,
   "id": "a75d591b-b955-4583-8a47-4ae759919662",
   "metadata": {},
   "outputs": [],
   "source": []
  },
  {
   "cell_type": "code",
   "execution_count": null,
   "id": "2cdebf5e-490d-4555-9c27-a874f7ae82b9",
   "metadata": {},
   "outputs": [],
   "source": []
  },
  {
   "cell_type": "code",
   "execution_count": null,
   "id": "a2d05fb8-cb99-4a76-ac84-2ee6a6f17ad3",
   "metadata": {},
   "outputs": [],
   "source": []
  },
  {
   "cell_type": "code",
   "execution_count": null,
   "id": "9bb52c1e-8751-42ed-9511-795d3fb43d6a",
   "metadata": {},
   "outputs": [],
   "source": []
  },
  {
   "cell_type": "code",
   "execution_count": null,
   "id": "a9fbb500-8841-4c1c-83c1-35ad5ba2efe3",
   "metadata": {},
   "outputs": [],
   "source": []
  },
  {
   "cell_type": "code",
   "execution_count": null,
   "id": "d2e19eec-1ef7-4755-ab59-5ee17159f8ac",
   "metadata": {},
   "outputs": [],
   "source": []
  },
  {
   "cell_type": "code",
   "execution_count": 16,
   "id": "03721809-013b-4dc7-9de7-0d136de8fe11",
   "metadata": {
    "tags": []
   },
   "outputs": [
    {
     "ename": "SyntaxError",
     "evalue": "invalid syntax (454059604.py, line 1)",
     "output_type": "error",
     "traceback": [
      "\u001b[0;36m  Cell \u001b[0;32mIn[16], line 1\u001b[0;36m\u001b[0m\n\u001b[0;31m    train_data[]\u001b[0m\n\u001b[0m               ^\u001b[0m\n\u001b[0;31mSyntaxError\u001b[0m\u001b[0;31m:\u001b[0m invalid syntax\n"
     ]
    }
   ],
   "source": [
    "train_data[]"
   ]
  },
  {
   "cell_type": "code",
   "execution_count": null,
   "id": "e4b35cba-7c59-4cfb-b998-ce0fe1739b3f",
   "metadata": {
    "tags": []
   },
   "outputs": [],
   "source": [
    "gb(np.array([ 5.5, 2.3, 4. , 1.3]))"
   ]
  },
  {
   "cell_type": "code",
   "execution_count": null,
   "id": "1bcff23a-9508-45e6-9dfd-487147b6d2e8",
   "metadata": {
    "tags": []
   },
   "outputs": [],
   "source": [
    "gb(np.array(np.array([6.9, 3.1, 4.9, 1.5])))"
   ]
  },
  {
   "cell_type": "code",
   "execution_count": null,
   "id": "333ead2d-9fb1-43b1-b31c-445353a4d8d4",
   "metadata": {},
   "outputs": [],
   "source": []
  },
  {
   "cell_type": "code",
   "execution_count": null,
   "id": "c0ae9b12-d3b1-4b11-b2b1-37c10125fa59",
   "metadata": {},
   "outputs": [],
   "source": []
  },
  {
   "cell_type": "code",
   "execution_count": null,
   "id": "676af71a-4da3-472b-9972-da59181d433b",
   "metadata": {},
   "outputs": [],
   "source": []
  },
  {
   "cell_type": "code",
   "execution_count": null,
   "id": "1af16f31-f4f4-4891-9e63-53be2a7b2d1a",
   "metadata": {},
   "outputs": [],
   "source": []
  },
  {
   "cell_type": "code",
   "execution_count": null,
   "id": "ca6bb47a-dcc2-42f4-a691-678ca2f63c26",
   "metadata": {},
   "outputs": [],
   "source": []
  },
  {
   "cell_type": "code",
   "execution_count": null,
   "id": "07ea5d6e-4aa0-43df-9e18-c2add7c33977",
   "metadata": {},
   "outputs": [],
   "source": []
  },
  {
   "cell_type": "code",
   "execution_count": null,
   "id": "122f2db3-42ae-42fe-9779-2a8a192eefa6",
   "metadata": {
    "tags": []
   },
   "outputs": [],
   "source": []
  },
  {
   "cell_type": "code",
   "execution_count": null,
   "id": "e3d63cd5-6d01-493b-ba5b-393ce9b81f32",
   "metadata": {},
   "outputs": [],
   "source": []
  },
  {
   "cell_type": "code",
   "execution_count": null,
   "id": "bb70c67d-9f90-44d3-9ee5-c3fe8d2bbaca",
   "metadata": {},
   "outputs": [],
   "source": []
  },
  {
   "cell_type": "code",
   "execution_count": null,
   "id": "9886f676-1dc1-4d7f-ade0-6ce021130096",
   "metadata": {},
   "outputs": [],
   "source": []
  }
 ],
 "metadata": {
  "kernelspec": {
   "display_name": "Python 3 (ipykernel)",
   "language": "python",
   "name": "python3"
  },
  "language_info": {
   "codemirror_mode": {
    "name": "ipython",
    "version": 3
   },
   "file_extension": ".py",
   "mimetype": "text/x-python",
   "name": "python",
   "nbconvert_exporter": "python",
   "pygments_lexer": "ipython3",
   "version": "3.10.10"
  }
 },
 "nbformat": 4,
 "nbformat_minor": 5
}
