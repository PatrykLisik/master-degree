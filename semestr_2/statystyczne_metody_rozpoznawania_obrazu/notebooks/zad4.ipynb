{
 "cells": [
  {
   "cell_type": "markdown",
   "id": "55addf32-e26f-426e-b357-5e1f61b3698a",
   "metadata": {},
   "source": [
    "## Definicja algorytmu\n",
    "1. Wyznacz środki ciężkości a oraz b klasy 1 oraz klasy 2 odpowiednio;\n",
    "2. Wyznacz hiperpłaszczyznę $g_B(x)=0$ przechodzącą przez punkt b i prostopadłą do wektora o początku b i końcu a, tzn. a-b jest jej wektorem normalnym.\n",
    "3. Wśród punktów z klasy 1 znajdź punkt c dla którego funkcja $g_B(x)$ osiąga minimum, a wśród punktów z klasy 2 punkt d dla którego funkcja $g_B(x)$ osiąga maksimum, a następnie wyznacz dwie hiperpłaszczyzny $g_C(x)=0$ oraz $g_D(x)=0$ przechodzące odpowiednio przez punkty c i d, równoległe do hiperpłaszczyzny $g_B(x)=0$, tzn. mające wektor a-b jako wektor normalny.\n",
    "4. Jeżeli punkt c leży po stronie punktu a, a punkt d po stronie punktu b, tj. $g_B(c)>g_B(d)$, to skocz do punktu 8.\n",
    "5. Jeśli $g_B(c) \\ge g_B(d)$, to znajdź liczbę l1 takich punktów x z klasy 1 oraz liczbę l2 takich punktów x z klasy 2, że $g_C(x)\\ge -eps$ i $g_D(x)\\le eps$ (przyjmij eps=0,0001.\n",
    "6. Jeżeli $l1>l2$, to usuń punkt d. Gdy zaś $l2>l1$, to usuń punkt c. W przypadku, gdy $l1=l2$ oraz $l1>0$, to usuń zarówno punkt c jak i d.\n",
    "7. Skocz do punktu 3.\n",
    "8. Wyznacz funkcję $h(x)=g_C(x)+g_D(x)$.\n",
    "9. Dokonaj klasyfikacji wszystkich obiektów zbioru uczącego z użyciem otrzymanej w punkcie 8 funkcji dyskryminacyjnej $h(x)$."
   ]
  },
  {
   "cell_type": "code",
   "execution_count": 1,
   "id": "bb5311da-7d8a-49ea-8373-995b09fcf95d",
   "metadata": {
    "tags": []
   },
   "outputs": [],
   "source": [
    "import numpy as np\n",
    "import pandas as pd"
   ]
  },
  {
   "cell_type": "code",
   "execution_count": 2,
   "id": "58187c8a-3c68-4276-a815-e182eb7a79cb",
   "metadata": {
    "tags": []
   },
   "outputs": [],
   "source": [
    "train_file_path = \"../data/iris_trn.txt\"\n",
    "train_data = pd.read_csv(train_file_path,skiprows=1, index_col=False,skipinitialspace=True, delim_whitespace=True, header=None).to_numpy()\n",
    "# train_data"
   ]
  },
  {
   "cell_type": "code",
   "execution_count": 3,
   "id": "050596cd-69d1-42d8-99f6-eb0365e31c16",
   "metadata": {
    "tags": []
   },
   "outputs": [],
   "source": [
    "class_1 = 2\n",
    "class_2 =3\n",
    "classes = [class_1, class_2]"
   ]
  },
  {
   "cell_type": "code",
   "execution_count": 4,
   "id": "1af64df9-f22a-4a88-b0ab-504ba19c3936",
   "metadata": {
    "tags": []
   },
   "outputs": [
    {
     "data": {
      "text/plain": [
       "array([-0.564, -0.152, -1.328, -0.7  ])"
      ]
     },
     "execution_count": 4,
     "metadata": {},
     "output_type": "execute_result"
    }
   ],
   "source": [
    "class_1_data = train_data[train_data[:, 0] == class_1][:,1:]\n",
    "class_2_data = train_data[train_data[:, 0] == class_2][:,1:]\n",
    "a= np.mean(class_1_data,axis=0)\n",
    "b= np.mean(class_2_data,axis=0)\n",
    "plane_vec = a-b\n",
    "\n",
    "plane_vec"
   ]
  },
  {
   "cell_type": "code",
   "execution_count": 5,
   "id": "bb99ad67-6cc7-4ae1-9e78-649b49fc6275",
   "metadata": {
    "tags": []
   },
   "outputs": [
    {
     "data": {
      "text/plain": [
       "array([[6.3, 3.3, 6. , 2.5],\n",
       "       [5.8, 2.7, 5.1, 1.9],\n",
       "       [7.1, 3. , 5.9, 2.1],\n",
       "       [6.3, 2.9, 5.6, 1.8],\n",
       "       [6.5, 3. , 5.8, 2.2],\n",
       "       [7.6, 3. , 6.6, 2.1],\n",
       "       [4.9, 2.5, 4.5, 1.7],\n",
       "       [7.3, 2.9, 6.3, 1.8],\n",
       "       [6.7, 2.5, 5.8, 1.8],\n",
       "       [7.2, 3.6, 6.1, 2.5],\n",
       "       [6.5, 3.2, 5.1, 2. ],\n",
       "       [6.4, 2.7, 5.3, 1.9],\n",
       "       [6.8, 3. , 5.5, 2.1],\n",
       "       [5.7, 2.5, 5. , 2. ],\n",
       "       [5.8, 2.8, 5.1, 2.4],\n",
       "       [6.4, 3.2, 5.3, 2.3],\n",
       "       [6.5, 3. , 5.5, 1.8],\n",
       "       [7.7, 3.8, 6.7, 2.2],\n",
       "       [7.7, 2.6, 6.9, 2.3],\n",
       "       [6. , 2.2, 5. , 1.5],\n",
       "       [6.9, 3.2, 5.7, 2.3],\n",
       "       [5.6, 2.8, 4.9, 2. ],\n",
       "       [7.7, 2.8, 6.7, 2. ],\n",
       "       [6.3, 2.7, 4.9, 1.8],\n",
       "       [6.7, 3.3, 5.7, 2.1]])"
      ]
     },
     "execution_count": 5,
     "metadata": {},
     "output_type": "execute_result"
    }
   ],
   "source": [
    "class_2_data"
   ]
  },
  {
   "cell_type": "code",
   "execution_count": 6,
   "id": "de0b4825-93ba-46a2-b792-4282dedff80a",
   "metadata": {
    "tags": []
   },
   "outputs": [
    {
     "data": {
      "text/plain": [
       "(array([6.012, 2.776, 4.312, 1.344]), array([6.576, 2.928, 5.64 , 2.044]))"
      ]
     },
     "execution_count": 6,
     "metadata": {},
     "output_type": "execute_result"
    }
   ],
   "source": [
    "a,b"
   ]
  },
  {
   "cell_type": "markdown",
   "id": "5d615d62-d370-478e-a2cd-73ffe77c2d26",
   "metadata": {},
   "source": [
    "## Równanie płaszczyzny\n",
    "Równanie płaszczyzny $\\pi$ przechodzącej przez punkt $P_0(x_0,y_0,...) $ i prostopadłej do\n",
    "wektora niezerowego $\\vec{V} = [A,B,C...] $ \n",
    "$$ \\pi: A(x-x_0)+B(y-y_0)+... = 0$$\n",
    "\n",
    "## Równanie wektora\n",
    "Dla dwóch punktów $A(x_a,y_a,...)$ i  $B(x_b,y_b,...)$ wektor normalny ma postać $\\vec{V} =[x_a-x_b, y_a - y_b, ... ] $"
   ]
  },
  {
   "cell_type": "code",
   "execution_count": 7,
   "id": "ebe1200b-8452-4389-a2e2-4aa58b823703",
   "metadata": {
    "tags": []
   },
   "outputs": [],
   "source": [
    "def get_plane_equatrion(start_point, normal_vetor):\n",
    "    def plane_equatrion(point):\n",
    "        return np.inner(normal_vetor,point-start_point)\n",
    "    return plane_equatrion\n",
    "\n",
    "gb = get_plane_equatrion(b, plane_vec)"
   ]
  },
  {
   "cell_type": "code",
   "execution_count": 8,
   "id": "8a4a731c-5431-46cf-a275-bfe9ec9c323b",
   "metadata": {
    "tags": []
   },
   "outputs": [],
   "source": [
    "eps = 10**(-5)"
   ]
  },
  {
   "cell_type": "code",
   "execution_count": 9,
   "id": "b9ef165c-0de8-41b8-861e-a04158f344a3",
   "metadata": {
    "tags": []
   },
   "outputs": [
    {
     "name": "stdout",
     "output_type": "stream",
     "text": [
      "l1(16)>l2(6) removing d=[4.9 2.5 4.5 1.7]\n",
      "l1(5)==l2(5) removing d=[6.  2.2 5.  1.5] and c=[6.9 3.1 4.9 1.5]\n",
      "l1(1)<l2(2) removing c=[7.  3.2 4.7 1.4]\n",
      "gb(c)>gb(d)\n"
     ]
    }
   ],
   "source": [
    "while(True):\n",
    "    c = min(class_1_data, key=gb)\n",
    "    d = max(class_2_data, key=gb)\n",
    "    gc  = get_plane_equatrion(c, plane_vec)\n",
    "    gd = get_plane_equatrion(d, plane_vec)\n",
    "\n",
    "    if gb(c)>gb(d):\n",
    "        print(\"gb(c)>gb(d)\")\n",
    "        break\n",
    "\n",
    "    l1 = np.sum(gd(class_1_data)<=eps)\n",
    "    l2 = np.sum(gc(class_2_data)>=-eps)\n",
    "    index_c = np.flatnonzero(np.all((class_1_data==c), axis=1))[0]\n",
    "    index_d = np.flatnonzero(np.all((class_2_data == d), axis=1))[0]\n",
    "    \n",
    "\n",
    "    if l1<l2:\n",
    "        print(f\"l1({l1})<l2({l2}) removing c={c}\")\n",
    "        class_1_data = np.delete(class_1_data,index_c,axis=0)\n",
    "    if l1>l2:\n",
    "        print(f\"l1({l1})>l2({l2}) removing d={d}\")\n",
    "        class_2_data = np.delete(class_2_data,index_d,axis=0)\n",
    "    if l1==l2:\n",
    "        print(f\"l1({l1})==l2({l2}) removing d={d} and c={c}\")\n",
    "        class_1_data = np.delete(class_1_data,index_c,axis=0)\n",
    "        class_2_data = np.delete(class_2_data,index_d,axis=0)    \n"
   ]
  },
  {
   "cell_type": "code",
   "execution_count": 10,
   "id": "72ef9eb2-67b7-4c21-be1a-59187406e58d",
   "metadata": {},
   "outputs": [],
   "source": [
    "# c = min(class_1_data, key=gb)\n",
    "# d = max(class_2_data, key=gb)\n",
    "# gc  = get_plane_equatrion(c, plane_vec)\n",
    "# gd = get_plane_equatrion(d, plane_vec)\n",
    "\n",
    "# # if gb(c)>gb(d):\n",
    "# #     print(\"gb(c)>gb(d)\")\n",
    "# #     break\n",
    "\n",
    "# l1 = np.sum(gd(class_1_data)>=-eps)\n",
    "# l2 = np.sum(gc(class_2_data)>=eps)\n",
    "# index_c = np.argwhere(class_1_data == c)[0]\n",
    "# index_d = np.argwhere(class_2_data == d)[0]\n",
    "\n",
    "# print(f\"Extreme objects index: c={np.argwhere(train_data == c)[0][0]+1} d={np.argwhere(train_data == d)[0][0]}\")"
   ]
  },
  {
   "cell_type": "code",
   "execution_count": 11,
   "id": "1bcff23a-9508-45e6-9dfd-487147b6d2e8",
   "metadata": {
    "tags": []
   },
   "outputs": [
    {
     "data": {
      "text/plain": [
       "array([2. , 5.5, 2.3, 4. , 1.3])"
      ]
     },
     "execution_count": 11,
     "metadata": {},
     "output_type": "execute_result"
    }
   ],
   "source": [
    "train_data[28]"
   ]
  },
  {
   "cell_type": "code",
   "execution_count": null,
   "id": "b9b8980c-d133-4f17-8e98-cc553c57b154",
   "metadata": {},
   "outputs": [],
   "source": []
  },
  {
   "cell_type": "code",
   "execution_count": 12,
   "id": "333ead2d-9fb1-43b1-b31c-445353a4d8d4",
   "metadata": {},
   "outputs": [],
   "source": [
    "arrr = np.array([ [1,1],[2,2],[3,2],[4,2],[5,1] ] )"
   ]
  },
  {
   "cell_type": "code",
   "execution_count": 13,
   "id": "bcd6af87-e859-44bb-97ab-7b95451386e1",
   "metadata": {
    "tags": []
   },
   "outputs": [
    {
     "ename": "TypeError",
     "evalue": "_flatnonzero_dispatcher() missing 1 required positional argument: 'a'",
     "output_type": "error",
     "traceback": [
      "\u001b[0;31m---------------------------------------------------------------------------\u001b[0m",
      "\u001b[0;31mTypeError\u001b[0m                                 Traceback (most recent call last)",
      "Cell \u001b[0;32mIn[13], line 1\u001b[0m\n\u001b[0;32m----> 1\u001b[0m \u001b[43mnp\u001b[49m\u001b[38;5;241;43m.\u001b[39;49m\u001b[43mflatnonzero\u001b[49m\u001b[43m(\u001b[49m\u001b[43m)\u001b[49m\n",
      "File \u001b[0;32m<__array_function__ internals>:179\u001b[0m, in \u001b[0;36mflatnonzero\u001b[0;34m(*args, **kwargs)\u001b[0m\n",
      "\u001b[0;31mTypeError\u001b[0m: _flatnonzero_dispatcher() missing 1 required positional argument: 'a'"
     ]
    }
   ],
   "source": [
    "np.flatnonzero()"
   ]
  },
  {
   "cell_type": "code",
   "execution_count": null,
   "id": "88e3d654-0ed7-4a83-8060-7ee200abf269",
   "metadata": {
    "tags": []
   },
   "outputs": [],
   "source": [
    "absolute_index_c = np.flatnonzero(train_data[:,1]==[5])[0]\n",
    "absolute_index_c"
   ]
  },
  {
   "cell_type": "code",
   "execution_count": null,
   "id": "7538e828-88c3-4753-be9f-e83aecc3ac14",
   "metadata": {
    "tags": []
   },
   "outputs": [],
   "source": [
    "train_data[:,1]==[5]"
   ]
  },
  {
   "cell_type": "code",
   "execution_count": null,
   "id": "2dc447e8-bb64-4743-9a08-7b4216c96b54",
   "metadata": {
    "tags": []
   },
   "outputs": [],
   "source": [
    "absolute_index_c"
   ]
  },
  {
   "cell_type": "code",
   "execution_count": null,
   "id": "adbfcb04-196f-4dbd-8311-86a0c9b52e89",
   "metadata": {},
   "outputs": [],
   "source": []
  },
  {
   "cell_type": "code",
   "execution_count": null,
   "id": "5599153c-b414-43c3-a989-8bb71e98caf7",
   "metadata": {},
   "outputs": [],
   "source": []
  },
  {
   "cell_type": "code",
   "execution_count": null,
   "id": "8c30aa9f-9eb5-434f-9ffc-f1aadb43dc01",
   "metadata": {},
   "outputs": [],
   "source": []
  },
  {
   "cell_type": "code",
   "execution_count": null,
   "id": "276267be-2e30-43c9-ba34-9a3373a4db9f",
   "metadata": {},
   "outputs": [],
   "source": []
  },
  {
   "cell_type": "code",
   "execution_count": null,
   "id": "c0ae9b12-d3b1-4b11-b2b1-37c10125fa59",
   "metadata": {},
   "outputs": [],
   "source": []
  },
  {
   "cell_type": "code",
   "execution_count": null,
   "id": "676af71a-4da3-472b-9972-da59181d433b",
   "metadata": {},
   "outputs": [],
   "source": []
  },
  {
   "cell_type": "code",
   "execution_count": null,
   "id": "1af16f31-f4f4-4891-9e63-53be2a7b2d1a",
   "metadata": {},
   "outputs": [],
   "source": []
  },
  {
   "cell_type": "code",
   "execution_count": null,
   "id": "ca6bb47a-dcc2-42f4-a691-678ca2f63c26",
   "metadata": {},
   "outputs": [],
   "source": []
  },
  {
   "cell_type": "code",
   "execution_count": null,
   "id": "07ea5d6e-4aa0-43df-9e18-c2add7c33977",
   "metadata": {},
   "outputs": [],
   "source": []
  },
  {
   "cell_type": "code",
   "execution_count": null,
   "id": "122f2db3-42ae-42fe-9779-2a8a192eefa6",
   "metadata": {
    "tags": []
   },
   "outputs": [],
   "source": []
  },
  {
   "cell_type": "code",
   "execution_count": null,
   "id": "e3d63cd5-6d01-493b-ba5b-393ce9b81f32",
   "metadata": {},
   "outputs": [],
   "source": []
  },
  {
   "cell_type": "code",
   "execution_count": null,
   "id": "bb70c67d-9f90-44d3-9ee5-c3fe8d2bbaca",
   "metadata": {},
   "outputs": [],
   "source": []
  },
  {
   "cell_type": "code",
   "execution_count": null,
   "id": "9886f676-1dc1-4d7f-ade0-6ce021130096",
   "metadata": {},
   "outputs": [],
   "source": []
  }
 ],
 "metadata": {
  "kernelspec": {
   "display_name": "Python 3 (ipykernel)",
   "language": "python",
   "name": "python3"
  },
  "language_info": {
   "codemirror_mode": {
    "name": "ipython",
    "version": 3
   },
   "file_extension": ".py",
   "mimetype": "text/x-python",
   "name": "python",
   "nbconvert_exporter": "python",
   "pygments_lexer": "ipython3",
   "version": "3.10.10"
  }
 },
 "nbformat": 4,
 "nbformat_minor": 5
}
