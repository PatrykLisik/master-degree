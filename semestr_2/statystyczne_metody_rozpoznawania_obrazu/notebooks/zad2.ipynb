{
 "cells": [
  {
   "cell_type": "code",
   "execution_count": 1,
   "id": "f2fef0cf",
   "metadata": {},
   "outputs": [],
   "source": [
    "import numpy as np"
   ]
  },
  {
   "cell_type": "markdown",
   "id": "4db65fa4",
   "metadata": {},
   "source": [
    "# Import danych"
   ]
  },
  {
   "cell_type": "code",
   "execution_count": 2,
   "id": "2e12ed64",
   "metadata": {
    "scrolled": true
   },
   "outputs": [
    {
     "data": {
      "text/plain": [
       "array([[1. , 5.1, 3.5, 1.4, 0.2],\n",
       "       [1. , 4.9, 3. , 1.4, 0.2],\n",
       "       [1. , 4.7, 3.2, 1.3, 0.2],\n",
       "       [1. , 4.6, 3.1, 1.5, 0.2],\n",
       "       [1. , 5. , 3.6, 1.4, 0.2],\n",
       "       [1. , 5.4, 3.9, 1.7, 0.4],\n",
       "       [1. , 4.6, 3.4, 1.4, 0.3],\n",
       "       [1. , 5. , 3.4, 1.5, 0.2],\n",
       "       [1. , 4.4, 2.9, 1.4, 0.2],\n",
       "       [1. , 4.9, 3.1, 1.5, 0.1],\n",
       "       [1. , 5.4, 3.7, 1.5, 0.2],\n",
       "       [1. , 4.8, 3.4, 1.6, 0.2],\n",
       "       [1. , 4.8, 3. , 1.4, 0.1],\n",
       "       [1. , 4.3, 3. , 1.1, 0.1],\n",
       "       [1. , 5.8, 4. , 1.2, 0.2],\n",
       "       [1. , 5.7, 4.4, 1.5, 0.4],\n",
       "       [1. , 5.4, 3.9, 1.3, 0.4],\n",
       "       [1. , 5.1, 3.5, 1.4, 0.3],\n",
       "       [1. , 5.7, 3.8, 1.7, 0.3],\n",
       "       [1. , 5.1, 3.8, 1.5, 0.3],\n",
       "       [1. , 5.4, 3.4, 1.7, 0.2],\n",
       "       [1. , 5.1, 3.7, 1.5, 0.4],\n",
       "       [1. , 4.6, 3.6, 1. , 0.2],\n",
       "       [1. , 5.1, 3.3, 1.7, 0.5],\n",
       "       [1. , 4.8, 3.4, 1.9, 0.2],\n",
       "       [2. , 7. , 3.2, 4.7, 1.4],\n",
       "       [2. , 6.4, 3.2, 4.5, 1.5],\n",
       "       [2. , 6.9, 3.1, 4.9, 1.5],\n",
       "       [2. , 5.5, 2.3, 4. , 1.3],\n",
       "       [2. , 6.5, 2.8, 4.6, 1.5],\n",
       "       [2. , 5.7, 2.8, 4.5, 1.3],\n",
       "       [2. , 6.3, 3.3, 4.7, 1.6],\n",
       "       [2. , 4.9, 2.4, 3.3, 1. ],\n",
       "       [2. , 6.6, 2.9, 4.6, 1.3],\n",
       "       [2. , 5.2, 2.7, 3.9, 1.4],\n",
       "       [2. , 5. , 2. , 3.5, 1. ],\n",
       "       [2. , 5.9, 3. , 4.2, 1.5],\n",
       "       [2. , 6. , 2.2, 4. , 1. ],\n",
       "       [2. , 6.1, 2.9, 4.7, 1.4],\n",
       "       [2. , 5.6, 2.9, 3.6, 1.3],\n",
       "       [2. , 6.7, 3.1, 4.4, 1.4],\n",
       "       [2. , 5.6, 3. , 4.5, 1.5],\n",
       "       [2. , 5.8, 2.7, 4.1, 1. ],\n",
       "       [2. , 6.2, 2.2, 4.5, 1.5],\n",
       "       [2. , 5.6, 2.5, 3.9, 1.1],\n",
       "       [2. , 5.9, 3.2, 4.8, 1.8],\n",
       "       [2. , 6.1, 2.8, 4. , 1.3],\n",
       "       [2. , 6.3, 2.5, 4.9, 1.5],\n",
       "       [2. , 6.1, 2.8, 4.7, 1.2],\n",
       "       [2. , 6.4, 2.9, 4.3, 1.3],\n",
       "       [3. , 6.3, 3.3, 6. , 2.5],\n",
       "       [3. , 5.8, 2.7, 5.1, 1.9],\n",
       "       [3. , 7.1, 3. , 5.9, 2.1],\n",
       "       [3. , 6.3, 2.9, 5.6, 1.8],\n",
       "       [3. , 6.5, 3. , 5.8, 2.2],\n",
       "       [3. , 7.6, 3. , 6.6, 2.1],\n",
       "       [3. , 4.9, 2.5, 4.5, 1.7],\n",
       "       [3. , 7.3, 2.9, 6.3, 1.8],\n",
       "       [3. , 6.7, 2.5, 5.8, 1.8],\n",
       "       [3. , 7.2, 3.6, 6.1, 2.5],\n",
       "       [3. , 6.5, 3.2, 5.1, 2. ],\n",
       "       [3. , 6.4, 2.7, 5.3, 1.9],\n",
       "       [3. , 6.8, 3. , 5.5, 2.1],\n",
       "       [3. , 5.7, 2.5, 5. , 2. ],\n",
       "       [3. , 5.8, 2.8, 5.1, 2.4],\n",
       "       [3. , 6.4, 3.2, 5.3, 2.3],\n",
       "       [3. , 6.5, 3. , 5.5, 1.8],\n",
       "       [3. , 7.7, 3.8, 6.7, 2.2],\n",
       "       [3. , 7.7, 2.6, 6.9, 2.3],\n",
       "       [3. , 6. , 2.2, 5. , 1.5],\n",
       "       [3. , 6.9, 3.2, 5.7, 2.3],\n",
       "       [3. , 5.6, 2.8, 4.9, 2. ],\n",
       "       [3. , 7.7, 2.8, 6.7, 2. ],\n",
       "       [3. , 6.3, 2.7, 4.9, 1.8],\n",
       "       [3. , 6.7, 3.3, 5.7, 2.1]], dtype=float128)"
      ]
     },
     "execution_count": 2,
     "metadata": {},
     "output_type": "execute_result"
    }
   ],
   "source": [
    "train_file_path = \"../data/iris_trn.txt\"\n",
    "test_file_path = \"../data/iris_tst.txt\"\n",
    "\n",
    "train_data = np.genfromtxt(train_file_path, delimiter=\"  \", skip_header=1, dtype=np.float128)\n",
    "test_data = np.genfromtxt(test_file_path, delimiter=\"  \", skip_header=1, dtype=np.float128)\n",
    "train_data"
   ]
  },
  {
   "cell_type": "markdown",
   "id": "ae03bc0e",
   "metadata": {},
   "source": [
    "# Class gravity centers"
   ]
  },
  {
   "cell_type": "code",
   "execution_count": 3,
   "id": "ad3d7ade",
   "metadata": {},
   "outputs": [
    {
     "data": {
      "text/plain": [
       "array([1., 2., 3.], dtype=float128)"
      ]
     },
     "execution_count": 3,
     "metadata": {},
     "output_type": "execute_result"
    }
   ],
   "source": [
    "classes = np.unique(train_data[:, 0])\n",
    "classes"
   ]
  },
  {
   "cell_type": "code",
   "execution_count": 4,
   "id": "83cf8aee",
   "metadata": {},
   "outputs": [
    {
     "data": {
      "text/plain": [
       "array([[5.028, 3.48 , 1.46 , 0.248],\n",
       "       [6.012, 2.776, 4.312, 1.344],\n",
       "       [6.576, 2.928, 5.64 , 2.044]], dtype=float128)"
      ]
     },
     "execution_count": 4,
     "metadata": {},
     "output_type": "execute_result"
    }
   ],
   "source": [
    "\n",
    "gravity_centers = []\n",
    "for class_ in classes:\n",
    "    # mask class data\n",
    "    class_data = train_data[train_data[:, 0] == class_]\n",
    "    #remve class column\n",
    "    class_data = class_data[:, 1:]\n",
    "    #mean by column\n",
    "    class_gravity_centers = np.mean(class_data, axis=0)\n",
    "    gravity_centers.append(class_gravity_centers)\n",
    "gravity_centers = np.array(gravity_centers)\n",
    "gravity_centers"
   ]
  },
  {
   "cell_type": "code",
   "execution_count": 5,
   "id": "3e7517a0",
   "metadata": {},
   "outputs": [
    {
     "data": {
      "text/plain": [
       "array([5.872     , 3.06133333, 3.804     , 1.212     ], dtype=float128)"
      ]
     },
     "execution_count": 5,
     "metadata": {},
     "output_type": "execute_result"
    }
   ],
   "source": [
    "mv = np.mean(train_data[:, 1:], axis=0)\n",
    "mv"
   ]
  },
  {
   "cell_type": "code",
   "execution_count": 6,
   "id": "994a870e",
   "metadata": {},
   "outputs": [
    {
     "data": {
      "text/plain": [
       "array([0.85685787, 0.46843423, 1.81498567, 0.76951371], dtype=float128)"
      ]
     },
     "execution_count": 6,
     "metadata": {},
     "output_type": "execute_result"
    }
   ],
   "source": [
    "sd = np.std(train_data[:, 1:], axis=0, ddof=1)  #excel defualt to one degree of freedom numpy to 0\n",
    "sd"
   ]
  },
  {
   "cell_type": "code",
   "execution_count": 8,
   "id": "2b87eeef",
   "metadata": {},
   "outputs": [
    {
     "data": {
      "text/plain": [
       "array([[-0.98499417,  0.89375762, -1.29147025, -1.25273921],\n",
       "       [ 0.16338766, -0.60912144,  0.27989202,  0.1715369 ],\n",
       "       [ 0.82160651, -0.28463619,  1.01157824,  1.08120231]],\n",
       "      dtype=float128)"
      ]
     },
     "execution_count": 8,
     "metadata": {},
     "output_type": "execute_result"
    }
   ],
   "source": [
    "gravity_centers_std = (gravity_centers - mv) / sd\n",
    "gravity_centers_std"
   ]
  },
  {
   "cell_type": "markdown",
   "id": "ddeeab25",
   "metadata": {},
   "source": [
    "# Weights"
   ]
  },
  {
   "cell_type": "code",
   "execution_count": 9,
   "id": "5c250502",
   "metadata": {},
   "outputs": [
    {
     "data": {
      "text/plain": [
       "array([[-1.96998833,  1.78751525, -2.58294051, -2.50547842],\n",
       "       [ 0.32677532, -1.21824287,  0.55978403,  0.34307381],\n",
       "       [ 1.64321301, -0.56927237,  2.02315647,  2.16240462]],\n",
       "      dtype=float128)"
      ]
     },
     "execution_count": 9,
     "metadata": {},
     "output_type": "execute_result"
    }
   ],
   "source": [
    "weigths = gravity_centers_std * 2\n",
    "weigths"
   ]
  },
  {
   "cell_type": "code",
   "execution_count": 14,
   "id": "040c8234",
   "metadata": {},
   "outputs": [
    {
     "data": {
      "text/plain": [
       "array([-5.00626714, -0.5054889 , -2.94834397], dtype=float128)"
      ]
     },
     "execution_count": 14,
     "metadata": {},
     "output_type": "execute_result"
    }
   ],
   "source": [
    "# additonal column from excel\n",
    "bias = -np.sum(gravity_centers_std ** 2, axis=1)\n",
    "bias"
   ]
  },
  {
   "cell_type": "code",
   "execution_count": 15,
   "id": "30812e6e",
   "metadata": {},
   "outputs": [
    {
     "data": {
      "text/plain": [
       "array([[-2.29908414,  3.81593641, -1.42311896, -3.25592434],\n",
       "       [ 0.38136467, -2.60067004,  0.30842339,  0.44583196],\n",
       "       [ 1.91771947, -1.21526637,  1.11469556,  2.81009238]],\n",
       "      dtype=float128)"
      ]
     },
     "execution_count": 15,
     "metadata": {},
     "output_type": "execute_result"
    }
   ],
   "source": [
    "weigths_std = weigths / sd\n",
    "weigths_std"
   ]
  },
  {
   "cell_type": "code",
   "execution_count": 20,
   "id": "3ab894bd",
   "metadata": {},
   "outputs": [
    {
     "data": {
      "text/plain": [
       "array([  6.17182638,   3.50306473, -18.13499112], dtype=float128)"
      ]
     },
     "execution_count": 20,
     "metadata": {},
     "output_type": "execute_result"
    }
   ],
   "source": [
    "bias_std = bias - np.sum((weigths_std * mv), axis=1)\n",
    "bias_std"
   ]
  },
  {
   "cell_type": "markdown",
   "id": "5905259a",
   "metadata": {},
   "source": [
    "# Gs"
   ]
  },
  {
   "cell_type": "code",
   "execution_count": 23,
   "id": "5119d813",
   "metadata": {
    "scrolled": true
   },
   "outputs": [
    {
     "data": {
      "text/plain": [
       "array([[ 3.19603974e+00, -1.80947823e+00, -9.84666152e+00],\n",
       "       [ 4.07122943e+00, -2.76057986e+00, -9.77074959e+00],\n",
       "       [ 4.78650301e+00, -3.06438266e+00, -1.01822204e+01],\n",
       "       [ 4.54722127e+00, -2.83515799e+00, -1.01721633e+01],\n",
       "       [ 4.64895226e+00, -2.44402164e+00, -1.06650306e+01],\n",
       "       [ 4.03745020e+00, -2.14581817e+00, -1.03517321e+01],\n",
       "       [ 3.29390767e+00, -2.63887633e+00, -9.11513136e+00],\n",
       "       [ 7.40165729e+00, -4.66936788e+00, -1.11923894e+01],\n",
       "       [ 6.91024515e+00, -4.80128462e+00, -1.05690605e+01],\n",
       "       [ 3.94985369e+00, -2.13852404e+00, -1.02714297e+01],\n",
       "       [ 4.52847460e+00, -2.45298160e+00, -1.05355930e+01],\n",
       "       [ 4.38140156e+00, -3.01165794e+00, -9.82984364e+00],\n",
       "       [ 6.32572622e+00, -3.51428460e+00, -1.12715416e+01],\n",
       "       [ 5.00242590e+00, -2.13082405e+00, -1.13317019e+01],\n",
       "       [ 4.63481778e+00, -2.84245212e+00, -1.02524657e+01],\n",
       "       [ 5.20535119e+00, -3.15775707e+00, -1.05076941e+01],\n",
       "       [ 1.77576957e+00, -2.27635360e-01, -1.00082342e+01],\n",
       "       [ 5.76561319e+00, -2.65095806e+00, -1.15747551e+01],\n",
       "       [ 3.80163820e+00, -2.93148047e+00, -9.33025775e+00],\n",
       "       [ 4.94075990e+00, -3.67018439e+00, -9.73067553e+00],\n",
       "       [ 3.61488792e+00, -1.90285265e+00, -1.01721353e+01],\n",
       "       [ 6.01888045e+00, -3.85187780e+00, -1.06271027e+01],\n",
       "       [ 5.16348446e+00, -2.54384279e+00, -1.10797417e+01],\n",
       "       [ 5.31978188e+00, -3.54638020e+00, -1.02335017e+01],\n",
       "       [ 4.62544445e+00, -2.65136392e+00, -1.04341805e+01],\n",
       "       [-8.37433717e+00,  1.99289087e-01, -2.85051935e-01],\n",
       "       [-1.01665889e+01,  9.19065385e-01,  7.87423459e-01],\n",
       "       [-1.04348943e+01,  5.56229178e-01,  1.41856506e+00],\n",
       "       [-7.84438466e+00,  3.05962826e-01, -9.21678184e-01],\n",
       "       [-5.24835921e+00,  4.40415065e-01, -3.65215587e+00],\n",
       "       [-6.30425779e+00,  1.02138635e+00, -3.17722858e+00],\n",
       "       [-5.83635346e+00,  9.45960817e-01, -3.56970737e+00],\n",
       "       [-6.31710644e+00,  4.31020277e-01, -2.57401386e+00],\n",
       "       [-9.78703575e+00,  1.05573407e+00,  2.71201667e-01],\n",
       "       [-6.08334054e+00, -1.82922978e-01, -2.19383650e+00],\n",
       "       [-6.26200889e+00, -9.49788997e-01, -1.24830213e+00],\n",
       "       [-8.97518006e+00,  1.14468764e-01,  4.00611282e-01],\n",
       "       [-1.00301750e+01,  1.86076552e+00, -2.90690552e-01],\n",
       "       [-5.32272491e+00, -3.19185794e-01, -2.81818931e+00],\n",
       "       [-6.85847281e+00,  9.12170420e-01, -2.51379763e+00],\n",
       "       [-6.72053432e+00,  7.30889576e-01, -2.47045528e+00],\n",
       "       [-7.50941889e+00,  7.02914320e-02, -1.02097256e+00],\n",
       "       [-6.84101197e+00,  7.21929620e-01, -2.34101766e+00],\n",
       "       [-4.49915745e+00,  8.91976131e-01, -4.85291870e+00],\n",
       "       [-6.60981773e+00,  4.91857557e-01, -2.34213984e+00],\n",
       "       [-5.36935279e+00, -2.94790184e-01, -2.79595705e+00],\n",
       "       [-6.07653886e+00,  9.86001607e-03, -2.39342117e+00],\n",
       "       [-7.36839283e+00,  2.31384689e-01, -1.32309188e+00],\n",
       "       [-3.86453533e+00,  3.62034769e-01, -4.95759945e+00],\n",
       "       [-6.31582061e+00,  2.39084681e-01, -2.38336409e+00],\n",
       "       [-1.25699604e+01,  5.79784092e-01,  3.53007633e+00],\n",
       "       [-1.00895081e+01,  8.68579370e-01,  7.60828730e-01],\n",
       "       [-9.23872432e+00,  3.41151235e-01,  4.37473065e-01],\n",
       "       [-1.26645974e+01,  1.32534061e+00,  2.87915679e+00],\n",
       "       [-1.23973391e+01,  9.49067028e-01,  2.98817201e+00],\n",
       "       [-1.50240562e+01,  1.77175058e+00,  4.79220556e+00],\n",
       "       [-1.31101899e+01, -5.01126915e-01,  5.15121683e+00],\n",
       "       [-1.29901898e+01,  1.36992380e+00,  3.16016603e+00],\n",
       "       [-9.76957491e+00,  8.65493265e-01,  4.43981632e-01],\n",
       "       [-1.04589124e+01,  1.41898284e+00,  5.79829557e-01],\n",
       "       [-1.62529639e+01,  1.54435875e+00,  6.24850508e+00],\n",
       "       [-1.11219045e+01, -1.39448295e-01,  2.80125273e+00],\n",
       "       [-1.04007273e+01,  3.80547666e-01,  1.56007961e+00],\n",
       "       [-8.86650401e+00,  2.72172429e-01,  1.34231562e-01],\n",
       "       [-1.23847348e+01,  6.74137250e-01,  3.25049750e+00],\n",
       "       [-1.31863190e+01,  7.93298584e-01,  3.93292043e+00],\n",
       "       [-1.26089839e+01,  6.70776625e-01,  3.47810731e+00],\n",
       "       [-1.03039962e+01,  1.11321072e+00,  7.30685487e-01],\n",
       "       [-1.31359771e+01,  6.19311868e-01,  4.05656517e+00],\n",
       "       [-1.28910361e+01,  3.48590112e-01,  4.08234595e+00],\n",
       "       [-1.26730727e+01,  8.85413035e-01,  3.32755961e+00],\n",
       "       [-1.20744137e+01,  1.79318472e+00,  1.82112894e+00],\n",
       "       [-1.12364785e+01,  6.75390512e-01,  2.10098800e+00],\n",
       "       [-1.02817798e+01, -2.83852636e-01,  2.10553243e+00],\n",
       "       [-9.06353128e+00,  3.26562980e-01,  2.76868284e-01]],\n",
       "      dtype=float128)"
      ]
     },
     "execution_count": 23,
     "metadata": {},
     "output_type": "execute_result"
    }
   ],
   "source": [
    "distance_tab = []\n",
    "for data_row in test_data[:, 1:]:\n",
    "    distances = []\n",
    "    for weigth, b in zip(weigths_std, bias_std):\n",
    "        g = np.sum(data_row * weigth) + b\n",
    "        distances.append(g)\n",
    "    distance_tab.append(distances)\n",
    "distance_tab = np.array(distance_tab)\n",
    "distance_tab"
   ]
  },
  {
   "cell_type": "code",
   "execution_count": 27,
   "id": "10bb6059",
   "metadata": {},
   "outputs": [
    {
     "data": {
      "text/plain": [
       "array([1, 1, 1, 1, 1, 1, 1, 1, 1, 1, 1, 1, 1, 1, 1, 1, 1, 1, 1, 1, 1, 1,\n",
       "       1, 1, 1, 2, 2, 3, 2, 2, 2, 2, 2, 2, 2, 2, 3, 2, 2, 2, 2, 2, 2, 2,\n",
       "       2, 2, 2, 2, 2, 2, 3, 2, 3, 3, 3, 3, 3, 3, 2, 2, 3, 3, 3, 2, 3, 3,\n",
       "       3, 2, 3, 3, 3, 3, 3, 3, 2])"
      ]
     },
     "execution_count": 27,
     "metadata": {},
     "output_type": "execute_result"
    }
   ],
   "source": [
    "mins = np.argmax(distance_tab, axis=1) + 1\n",
    "mins"
   ]
  },
  {
   "cell_type": "markdown",
   "id": "d51017e2",
   "metadata": {},
   "source": [
    "# Results"
   ]
  },
  {
   "cell_type": "code",
   "execution_count": 28,
   "id": "5a0234f1",
   "metadata": {},
   "outputs": [
    {
     "data": {
      "text/plain": [
       "67"
      ]
     },
     "execution_count": 28,
     "metadata": {},
     "output_type": "execute_result"
    }
   ],
   "source": [
    "correct_count = np.sum(mins == test_data[:, 0])\n",
    "correct_count"
   ]
  },
  {
   "cell_type": "code",
   "execution_count": 29,
   "id": "7f214692",
   "metadata": {},
   "outputs": [
    {
     "data": {
      "text/plain": [
       "8"
      ]
     },
     "execution_count": 29,
     "metadata": {},
     "output_type": "execute_result"
    }
   ],
   "source": [
    "incorrect_count = np.sum(mins != test_data[:, 0])\n",
    "incorrect_count"
   ]
  },
  {
   "cell_type": "code",
   "execution_count": null,
   "id": "4a557e51",
   "metadata": {},
   "outputs": [],
   "source": []
  },
  {
   "cell_type": "code",
   "execution_count": null,
   "id": "0f3eca62",
   "metadata": {},
   "outputs": [],
   "source": []
  },
  {
   "cell_type": "code",
   "execution_count": null,
   "id": "8fc45bbb",
   "metadata": {},
   "outputs": [],
   "source": []
  },
  {
   "cell_type": "code",
   "execution_count": null,
   "id": "b351a800",
   "metadata": {},
   "outputs": [],
   "source": []
  },
  {
   "cell_type": "code",
   "execution_count": null,
   "id": "beef6681",
   "metadata": {},
   "outputs": [],
   "source": []
  }
 ],
 "metadata": {
  "kernelspec": {
   "display_name": "Python 3 (ipykernel)",
   "language": "python",
   "name": "python3"
  },
  "language_info": {
   "codemirror_mode": {
    "name": "ipython",
    "version": 3
   },
   "file_extension": ".py",
   "mimetype": "text/x-python",
   "name": "python",
   "nbconvert_exporter": "python",
   "pygments_lexer": "ipython3",
   "version": "3.10.10"
  }
 },
 "nbformat": 4,
 "nbformat_minor": 5
}
