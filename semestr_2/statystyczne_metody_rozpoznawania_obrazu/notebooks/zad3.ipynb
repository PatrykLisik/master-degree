{
 "cells": [
  {
   "cell_type": "code",
   "execution_count": 1,
   "id": "3c91ce03",
   "metadata": {},
   "outputs": [],
   "source": [
    "import numpy as np\n",
    "from itertools import cycle\n",
    "import matplotlib.pyplot as plt\n",
    "from matplotlib.animation import FuncAnimation\n",
    "from IPython import display\n",
    "from matplotlib.colors import ListedColormap"
   ]
  },
  {
   "cell_type": "markdown",
   "id": "85071b73",
   "metadata": {},
   "source": [
    "\n",
    "# Import danych"
   ]
  },
  {
   "cell_type": "code",
   "execution_count": 12,
   "id": "1c67621e",
   "metadata": {
    "scrolled": true
   },
   "outputs": [
    {
     "ename": "ValueError",
     "evalue": "Some errors were detected !\n    Line #13 (got 1 columns instead of 2)\n    Line #14 (got 1 columns instead of 2)\n    Line #15 (got 1 columns instead of 2)",
     "output_type": "error",
     "traceback": [
      "\u001B[0;31m---------------------------------------------------------------------------\u001B[0m",
      "\u001B[0;31mValueError\u001B[0m                                Traceback (most recent call last)",
      "\u001B[0;32m/tmp/ipykernel_282/1539761255.py\u001B[0m in \u001B[0;36m<module>\u001B[0;34m\u001B[0m\n\u001B[1;32m      3\u001B[0m \u001B[0mclasses\u001B[0m \u001B[0;34m=\u001B[0m \u001B[0;34m[\u001B[0m\u001B[0;36m1\u001B[0m\u001B[0;34m,\u001B[0m\u001B[0;36m2\u001B[0m\u001B[0;34m]\u001B[0m\u001B[0;34m\u001B[0m\u001B[0;34m\u001B[0m\u001B[0m\n\u001B[1;32m      4\u001B[0m \u001B[0;34m\u001B[0m\u001B[0m\n\u001B[0;32m----> 5\u001B[0;31m \u001B[0mtrain_data\u001B[0m \u001B[0;34m=\u001B[0m \u001B[0mnp\u001B[0m\u001B[0;34m.\u001B[0m\u001B[0mgenfromtxt\u001B[0m\u001B[0;34m(\u001B[0m\u001B[0mtrain_file_path\u001B[0m\u001B[0;34m,\u001B[0m  \u001B[0mdelimiter\u001B[0m\u001B[0;34m=\u001B[0m\u001B[0;34m\"  \"\u001B[0m\u001B[0;34m,\u001B[0m \u001B[0mskip_header\u001B[0m\u001B[0;34m=\u001B[0m\u001B[0;36m1\u001B[0m\u001B[0;34m,\u001B[0m \u001B[0mdtype\u001B[0m\u001B[0;34m=\u001B[0m\u001B[0mnp\u001B[0m\u001B[0;34m.\u001B[0m\u001B[0mfloat128\u001B[0m\u001B[0;34m)\u001B[0m\u001B[0;34m\u001B[0m\u001B[0;34m\u001B[0m\u001B[0m\n\u001B[0m\u001B[1;32m      6\u001B[0m \u001B[0;31m# Replace classes with 1 and -1\u001B[0m\u001B[0;34m\u001B[0m\u001B[0;34m\u001B[0m\u001B[0;34m\u001B[0m\u001B[0m\n\u001B[1;32m      7\u001B[0m \u001B[0mtrain_data\u001B[0m\u001B[0;34m[\u001B[0m\u001B[0;34m:\u001B[0m\u001B[0;34m,\u001B[0m\u001B[0;36m0\u001B[0m\u001B[0;34m]\u001B[0m\u001B[0;34m[\u001B[0m\u001B[0mtrain_data\u001B[0m\u001B[0;34m[\u001B[0m\u001B[0;34m:\u001B[0m\u001B[0;34m,\u001B[0m\u001B[0;36m0\u001B[0m\u001B[0;34m]\u001B[0m\u001B[0;34m==\u001B[0m\u001B[0mclasses\u001B[0m\u001B[0;34m[\u001B[0m\u001B[0;36m0\u001B[0m\u001B[0;34m]\u001B[0m\u001B[0;34m]\u001B[0m\u001B[0;34m=\u001B[0m\u001B[0;36m1\u001B[0m\u001B[0;34m\u001B[0m\u001B[0;34m\u001B[0m\u001B[0m\n",
      "\u001B[0;32m/opt/conda/lib/python3.9/site-packages/numpy/lib/npyio.py\u001B[0m in \u001B[0;36mgenfromtxt\u001B[0;34m(fname, dtype, comments, delimiter, skip_header, skip_footer, converters, missing_values, filling_values, usecols, names, excludelist, deletechars, replace_space, autostrip, case_sensitive, defaultfmt, unpack, usemask, loose, invalid_raise, max_rows, encoding, like)\u001B[0m\n\u001B[1;32m   2120\u001B[0m             \u001B[0;31m# Raise an exception ?\u001B[0m\u001B[0;34m\u001B[0m\u001B[0;34m\u001B[0m\u001B[0;34m\u001B[0m\u001B[0m\n\u001B[1;32m   2121\u001B[0m             \u001B[0;32mif\u001B[0m \u001B[0minvalid_raise\u001B[0m\u001B[0;34m:\u001B[0m\u001B[0;34m\u001B[0m\u001B[0;34m\u001B[0m\u001B[0m\n\u001B[0;32m-> 2122\u001B[0;31m                 \u001B[0;32mraise\u001B[0m \u001B[0mValueError\u001B[0m\u001B[0;34m(\u001B[0m\u001B[0merrmsg\u001B[0m\u001B[0;34m)\u001B[0m\u001B[0;34m\u001B[0m\u001B[0;34m\u001B[0m\u001B[0m\n\u001B[0m\u001B[1;32m   2123\u001B[0m             \u001B[0;31m# Issue a warning ?\u001B[0m\u001B[0;34m\u001B[0m\u001B[0;34m\u001B[0m\u001B[0;34m\u001B[0m\u001B[0m\n\u001B[1;32m   2124\u001B[0m             \u001B[0;32melse\u001B[0m\u001B[0;34m:\u001B[0m\u001B[0;34m\u001B[0m\u001B[0;34m\u001B[0m\u001B[0m\n",
      "\u001B[0;31mValueError\u001B[0m: Some errors were detected !\n    Line #13 (got 1 columns instead of 2)\n    Line #14 (got 1 columns instead of 2)\n    Line #15 (got 1 columns instead of 2)"
     ]
    }
   ],
   "source": [
    "train_file_path = \"../data/data3.txt\"\n",
    "max_iter_count = 1000\n",
    "classes = [1,2]\n",
    "\n",
    "train_data = np.genfromtxt(train_file_path,  delimiter=\"  \", skip_header=1, dtype=np.float128)\n",
    "# Replace classes with 1 and -1\n",
    "train_data[:,0][train_data[:,0]==classes[0]]=1\n",
    "train_data[:,0][train_data[:,0]==classes[1]]=-1\n",
    "#swap columns first and last columns\n",
    "train_data[:, 0], train_data[:, -1] = train_data[:, -1], train_data[:, 0].copy()\n",
    "train_data"
   ]
  },
  {
   "cell_type": "markdown",
   "id": "efc8228e",
   "metadata": {},
   "source": [
    "# Dane \n"
   ]
  },
  {
   "cell_type": "code",
   "execution_count": 3,
   "id": "03afd496",
   "metadata": {},
   "outputs": [
    {
     "data": {
      "image/png": "[encoded data removed]",
      "text/plain": [
       "<Figure size 432x288 with 1 Axes>"
      ]
     },
     "metadata": {
      "needs_background": "light"
     },
     "output_type": "display_data"
    }
   ],
   "source": [
    "plt.scatter(train_data[:,0],train_data[:,1],c=train_data[:,2])\n",
    "plt.grid()"
   ]
  },
  {
   "cell_type": "markdown",
   "id": "845e8f7f",
   "metadata": {},
   "source": [
    "# Algorytm"
   ]
  },
  {
   "cell_type": "code",
   "execution_count": 4,
   "id": "2213bad2",
   "metadata": {},
   "outputs": [],
   "source": [
    "def discrimiantion_fucntion(data,current_v):\n",
    "    return np.inner(data,current_v[:-1])+current_v[-1]\n",
    "\n",
    "def classify(data, current_v):\n",
    "    discrimiation_fucntion_value = discrimiantion_fucntion(data,current_v)\n",
    "    if discrimiation_fucntion_value>0:\n",
    "        return 1\n",
    "    return -1\n",
    "\n",
    "def error_count(data,current_v):\n",
    "    expected_value = data[:,-1] # 1 -1\n",
    "    actual_values = np.array([classify(data_row[:-1],current_v) for data_row in data])\n",
    "    return np.sum(expected_value!=actual_values)"
   ]
  },
  {
   "cell_type": "code",
   "execution_count": 5,
   "id": "6d20454b",
   "metadata": {},
   "outputs": [
    {
     "name": "stdout",
     "output_type": "stream",
     "text": [
      "Iteration 0 v = [4. 2. 1.] current_error_count=0\n",
      "Iteration 1 v = [4. 2. 1.] current_error_count=0\n",
      "Iteration 2 v = [4. 2. 1.] current_error_count=0\n",
      "Iteration 3 v = [1. 1. 0.] current_error_count=0\n",
      "Iteration 4 v = [ 0. -2. -1.] current_error_count=5\n",
      "Iteration 5 v = [4. 0. 0.] current_error_count=0\n",
      "Iteration 6 v = [4. 0. 0.] current_error_count=0\n",
      "Iteration 7 v = [4. 0. 0.] current_error_count=0\n",
      "Iteration 8 v = [ 1. -1. -1.] current_error_count=3\n",
      "Iteration 9 v = [ 1. -1. -1.] current_error_count=3\n",
      "Iteration 10 v = [ 1. -1. -1.] current_error_count=3\n",
      "Iteration 11 v = [3. 3. 0.] current_error_count=0\n",
      "Iteration 12 v = [3. 3. 0.] current_error_count=0\n",
      "Iteration 13 v = [ 0.  2. -1.] current_error_count=0\n",
      "Iteration 14 v = [-1. -1. -2.] current_error_count=5\n",
      "Iteration 15 v = [ 3.  1. -1.] current_error_count=0\n",
      "Iteration 16 v = [ 3.  1. -1.] current_error_count=0\n",
      "Iteration 17 v = [ 3.  1. -1.] current_error_count=0\n",
      "Iteration 18 v = [ 0.  0. -2.] current_error_count=3\n",
      "Iteration 19 v = [ 0.  0. -2.] current_error_count=3\n",
      "Iteration 20 v = [ 4.  2. -1.] current_error_count=0\n",
      "Iteration 21 v = [ 4.  2. -1.] current_error_count=0\n",
      "Iteration 22 v = [ 4.  2. -1.] current_error_count=0\n",
      "Iteration 23 v = [ 1.  1. -2.] current_error_count=0\n",
      "Iteration 24 v = [ 0. -2. -3.] current_error_count=4\n",
      "Iteration 25 v = [ 4.  0. -2.] current_error_count=0\n",
      "Iteration 26 v = [ 4.  0. -2.] current_error_count=0\n",
      "Iteration 27 v = [ 4.  0. -2.] current_error_count=0\n",
      "Iteration 28 v = [ 1. -1. -3.] current_error_count=3\n",
      "Iteration 29 v = [ 1. -1. -3.] current_error_count=3\n",
      "Iteration 30 v = [ 5.  1. -2.] current_error_count=0\n",
      "Iteration 31 v = [ 5.  1. -2.] current_error_count=0\n",
      "Iteration 32 v = [ 5.  1. -2.] current_error_count=0\n",
      "Iteration 33 v = [ 2.  0. -3.] current_error_count=0\n",
      "Iteration 34 v = [ 2.  0. -3.] current_error_count=0\n",
      "Iteration 35 v = [ 2.  0. -3.] current_error_count=0\n",
      "Iteration 36 v = [ 2.  0. -3.] current_error_count=0\n",
      "Iteration 37 v = [ 2.  0. -3.] current_error_count=0\n",
      "Iteration 38 v = [-1. -1. -4.] current_error_count=3\n",
      "Iteration 39 v = [-1. -1. -4.] current_error_count=3\n",
      "Iteration 40 v = [ 3.  1. -3.] current_error_count=0\n",
      "Iteration 41 v = [ 3.  1. -3.] current_error_count=0\n",
      "Iteration 42 v = [ 3.  1. -3.] current_error_count=0\n",
      "Iteration 43 v = [ 0.  0. -4.] current_error_count=3\n",
      "Iteration 44 v = [ 0.  0. -4.] current_error_count=3\n",
      "Iteration 45 v = [ 4.  2. -3.] current_error_count=0\n",
      "Iteration 46 v = [ 4.  2. -3.] current_error_count=0\n",
      "Iteration 47 v = [ 4.  2. -3.] current_error_count=0\n",
      "Iteration 48 v = [ 1.  1. -4.] current_error_count=0\n",
      "Iteration 49 v = [ 0. -2. -5.] current_error_count=4\n",
      "Iteration 50 v = [ 4.  0. -4.] current_error_count=0\n",
      "Iteration 51 v = [ 4.  0. -4.] current_error_count=0\n",
      "Iteration 52 v = [ 4.  0. -4.] current_error_count=0\n",
      "Iteration 53 v = [ 1. -1. -5.] current_error_count=3\n",
      "Iteration 54 v = [ 1. -1. -5.] current_error_count=3\n",
      "Iteration 55 v = [ 5.  1. -4.] current_error_count=0\n",
      "Iteration 56 v = [ 5.  1. -4.] current_error_count=0\n",
      "Iteration 57 v = [ 5.  1. -4.] current_error_count=0\n",
      "Iteration 58 v = [ 2.  0. -5.] current_error_count=1\n",
      "Iteration 59 v = [ 2.  0. -5.] current_error_count=1\n",
      "Iteration 60 v = [ 2.  0. -5.] current_error_count=1\n",
      "Iteration 61 v = [ 4.  4. -4.] current_error_count=0\n",
      "Iteration 62 v = [ 4.  4. -4.] current_error_count=0\n",
      "Iteration 63 v = [ 1.  3. -5.] current_error_count=0\n",
      "Iteration 64 v = [ 0.  0. -6.] current_error_count=3\n",
      "Iteration 65 v = [ 4.  2. -5.] current_error_count=0\n",
      "Iteration 66 v = [ 4.  2. -5.] current_error_count=0\n",
      "Iteration 67 v = [ 4.  2. -5.] current_error_count=0\n",
      "Iteration 68 v = [ 1.  1. -6.] current_error_count=2\n",
      "Iteration 69 v = [ 1.  1. -6.] current_error_count=2\n",
      "Iteration 70 v = [ 5.  3. -5.] current_error_count=0\n",
      "Iteration 71 v = [ 5.  3. -5.] current_error_count=0\n",
      "Iteration 72 v = [ 5.  3. -5.] current_error_count=0\n",
      "Iteration 73 v = [ 2.  2. -6.] current_error_count=0\n",
      "Iteration 74 v = [ 1. -1. -7.] current_error_count=3\n",
      "Iteration 75 v = [ 5.  1. -6.] current_error_count=0\n",
      "Iteration 76 v = [ 5.  1. -6.] current_error_count=0\n",
      "Iteration 77 v = [ 5.  1. -6.] current_error_count=0\n",
      "Iteration 78 v = [ 2.  0. -7.] current_error_count=1\n",
      "Iteration 79 v = [ 2.  0. -7.] current_error_count=1\n",
      "Iteration 80 v = [ 2.  0. -7.] current_error_count=1\n",
      "Iteration 81 v = [ 4.  4. -6.] current_error_count=0\n",
      "Iteration 82 v = [ 4.  4. -6.] current_error_count=0\n",
      "Iteration 83 v = [ 1.  3. -7.] current_error_count=0\n",
      "Iteration 84 v = [ 0.  0. -8.] current_error_count=3\n",
      "Iteration 85 v = [ 4.  2. -7.] current_error_count=0\n",
      "Iteration 86 v = [ 4.  2. -7.] current_error_count=0\n",
      "Iteration 87 v = [ 4.  2. -7.] current_error_count=0\n",
      "Iteration 88 v = [ 1.  1. -8.] current_error_count=3\n",
      "Iteration 89 v = [ 1.  1. -8.] current_error_count=3\n",
      "Iteration 90 v = [ 5.  3. -7.] current_error_count=0\n",
      "Iteration 91 v = [ 5.  3. -7.] current_error_count=0\n",
      "Iteration 92 v = [ 5.  3. -7.] current_error_count=0\n",
      "Iteration 93 v = [ 2.  2. -8.] current_error_count=0\n",
      "Iteration 94 v = [ 1. -1. -9.] current_error_count=3\n",
      "Iteration 95 v = [ 5.  1. -8.] current_error_count=0\n",
      "Iteration 96 v = [ 5.  1. -8.] current_error_count=0\n",
      "Iteration 97 v = [ 5.  1. -8.] current_error_count=0\n",
      "Iteration 98 v = [ 2.  0. -9.] current_error_count=3\n",
      "Iteration 99 v = [ 2.  0. -9.] current_error_count=3\n",
      "Iteration 100 v = [ 6.  2. -8.] current_error_count=0\n",
      "Iteration 101 v = [ 6.  2. -8.] current_error_count=0\n",
      "Iteration 102 v = [ 6.  2. -8.] current_error_count=0\n",
      "Iteration 103 v = [ 3.  1. -9.] current_error_count=0\n",
      "Iteration 104 v = [ 3.  1. -9.] current_error_count=0\n",
      "Iteration 105 v = [ 3.  1. -9.] current_error_count=0\n",
      "Iteration 106 v = [ 3.  1. -9.] current_error_count=0\n",
      "Iteration 107 v = [ 3.  1. -9.] current_error_count=0\n",
      "Iteration 108 v = [  0.   0. -10.] current_error_count=3\n",
      "Iteration 109 v = [  0.   0. -10.] current_error_count=3\n",
      "Iteration 110 v = [ 4.  2. -9.] current_error_count=0\n",
      "Iteration 111 v = [ 4.  2. -9.] current_error_count=0\n",
      "Iteration 112 v = [ 4.  2. -9.] current_error_count=0\n",
      "Iteration 113 v = [  1.   1. -10.] current_error_count=3\n",
      "Iteration 114 v = [  1.   1. -10.] current_error_count=3\n",
      "Iteration 115 v = [ 5.  3. -9.] current_error_count=0\n",
      "Iteration 116 v = [ 5.  3. -9.] current_error_count=0\n",
      "Iteration 117 v = [ 5.  3. -9.] current_error_count=0\n",
      "Iteration 118 v = [  2.   2. -10.] current_error_count=0\n",
      "Iteration 119 v = [  2.   2. -10.] current_error_count=0\n",
      "Iteration 120 v = [  2.   2. -10.] current_error_count=0\n",
      "Iteration 121 v = [  2.   2. -10.] current_error_count=0\n",
      "Iteration 122 v = [  2.   2. -10.] current_error_count=0\n",
      "Iteration 123 v = [  2.   2. -10.] current_error_count=0\n"
     ]
    }
   ],
   "source": [
    "v = np.zeros(train_data.shape[1])\n",
    "best_v = np.zeros(train_data.shape[1])\n",
    "best_error_count = np.Inf # lower better\n",
    "no_train_count = 0\n",
    "for index, train_row in enumerate(cycle(train_data)):\n",
    "    if no_train_count>4 or index>max_iter_count:\n",
    "        break\n",
    "    \n",
    "    product = np.inner(train_row,v)\n",
    "    if product<=0:\n",
    "        v+=train_row\n",
    "        no_train_count=0\n",
    "    else:\n",
    "        no_train_count +=1\n",
    "    \n",
    "    current_error_count = error_count(train_data, v)\n",
    "    if current_error_count<best_error_count:\n",
    "        best_error_count = current_error_count\n",
    "        best_v = v.copy()\n",
    "    print(f\"Iteration {index} v = {v} current_error_count={current_error_count}\")\n",
    "\n"
   ]
  },
  {
   "cell_type": "code",
   "execution_count": 6,
   "id": "0aa67d4c",
   "metadata": {},
   "outputs": [
    {
     "data": {
      "text/plain": [
       "array([[-25.6       , -25.58178178, -25.56356356, ...,  -7.43643644,\n",
       "         -7.41821822,  -7.4       ],\n",
       "       [-25.58178178, -25.56356356, -25.54534535, ...,  -7.41821822,\n",
       "         -7.4       ,  -7.38178178],\n",
       "       [-25.56356356, -25.54534535, -25.52712713, ...,  -7.4       ,\n",
       "         -7.38178178,  -7.36356356],\n",
       "       ...,\n",
       "       [ -7.43643644,  -7.41821822,  -7.4       , ...,  10.72712713,\n",
       "         10.74534535,  10.76356356],\n",
       "       [ -7.41821822,  -7.4       ,  -7.38178178, ...,  10.74534535,\n",
       "         10.76356356,  10.78178178],\n",
       "       [ -7.4       ,  -7.38178178,  -7.36356356, ...,  10.76356356,\n",
       "         10.78178178,  10.8       ]], dtype=float128)"
      ]
     },
     "execution_count": 6,
     "metadata": {},
     "output_type": "execute_result"
    }
   ],
   "source": [
    "@np.vectorize\n",
    "def discrimination_func(x,y):\n",
    "    return v[0]*x+v[1]*y+v[2]\n",
    "x = np.linspace(np.min(train_data)*1.3, np.max(train_data)*1.3, 1000)\n",
    "X,Y = np.meshgrid(x,x)\n",
    "X = X.T\n",
    "Y = Y.T\n",
    "Z = discrimination_func(X, Y)\n",
    "Z"
   ]
  },
  {
   "cell_type": "code",
   "execution_count": 7,
   "id": "655d84fa",
   "metadata": {},
   "outputs": [
    {
     "name": "stderr",
     "output_type": "stream",
     "text": [
      "No handles with labels found to put in legend.\n"
     ]
    },
    {
     "data": {
      "image/png": "[encoded data removed]",
      "text/plain": [
       "<Figure size 432x288 with 2 Axes>"
      ]
     },
     "metadata": {
      "needs_background": "light"
     },
     "output_type": "display_data"
    }
   ],
   "source": [
    "h= plt.contourf(x, x, Z)\n",
    "markers = np.array(train_data[:,2]+2, dtype=np.int64).astype(str)\n",
    "plt.scatter(train_data[:,0],train_data[:,1])\n",
    "plt.colorbar(h, label=\"Discrimiantion function value\")\n",
    "plt.legend()\n",
    "plt.tight_layout()"
   ]
  },
  {
   "cell_type": "code",
   "execution_count": null,
   "id": "f9e1a030",
   "metadata": {},
   "outputs": [],
   "source": []
  },
  {
   "cell_type": "code",
   "execution_count": null,
   "id": "546c468e",
   "metadata": {},
   "outputs": [],
   "source": []
  },
  {
   "cell_type": "code",
   "execution_count": null,
   "id": "af764547",
   "metadata": {},
   "outputs": [],
   "source": []
  },
  {
   "cell_type": "code",
   "execution_count": null,
   "id": "a0bd1ee8",
   "metadata": {},
   "outputs": [],
   "source": []
  },
  {
   "cell_type": "code",
   "execution_count": 8,
   "id": "e77c771e",
   "metadata": {},
   "outputs": [
    {
     "data": {
      "text/plain": [
       "array(['3', '3', '3', '1', '1'], dtype='<U21')"
      ]
     },
     "execution_count": 8,
     "metadata": {},
     "output_type": "execute_result"
    }
   ],
   "source": [
    "\n",
    "markers"
   ]
  },
  {
   "cell_type": "code",
   "execution_count": null,
   "id": "ce89748d",
   "metadata": {},
   "outputs": [],
   "source": []
  },
  {
   "cell_type": "code",
   "execution_count": null,
   "id": "449cefd0",
   "metadata": {},
   "outputs": [],
   "source": []
  },
  {
   "cell_type": "code",
   "execution_count": null,
   "id": "e732fb32",
   "metadata": {},
   "outputs": [],
   "source": []
  },
  {
   "cell_type": "code",
   "execution_count": null,
   "id": "34a6bc13",
   "metadata": {},
   "outputs": [],
   "source": []
  },
  {
   "cell_type": "code",
   "execution_count": null,
   "id": "16e309ef",
   "metadata": {},
   "outputs": [],
   "source": []
  },
  {
   "cell_type": "code",
   "execution_count": null,
   "id": "372437c8",
   "metadata": {},
   "outputs": [],
   "source": []
  },
  {
   "cell_type": "code",
   "execution_count": null,
   "id": "8d3e3893",
   "metadata": {},
   "outputs": [],
   "source": []
  },
  {
   "cell_type": "code",
   "execution_count": null,
   "id": "2ff05498",
   "metadata": {},
   "outputs": [],
   "source": []
  },
  {
   "cell_type": "code",
   "execution_count": null,
   "id": "b01ec1b7",
   "metadata": {},
   "outputs": [],
   "source": []
  },
  {
   "cell_type": "code",
   "execution_count": null,
   "id": "a0f2b59f",
   "metadata": {},
   "outputs": [],
   "source": []
  },
  {
   "cell_type": "code",
   "execution_count": null,
   "id": "43bb4380",
   "metadata": {},
   "outputs": [],
   "source": []
  },
  {
   "cell_type": "code",
   "execution_count": null,
   "id": "8adce07c",
   "metadata": {},
   "outputs": [],
   "source": []
  },
  {
   "cell_type": "code",
   "execution_count": null,
   "id": "c555f41c",
   "metadata": {},
   "outputs": [],
   "source": []
  },
  {
   "cell_type": "code",
   "execution_count": 9,
   "id": "224df623",
   "metadata": {},
   "outputs": [
    {
     "data": {
      "text/plain": [
       "array([-3.        , -2.99315738, -2.98631476, ...,  3.98631476,\n",
       "        3.99315738,  4.        ], dtype=float128)"
      ]
     },
     "execution_count": 9,
     "metadata": {},
     "output_type": "execute_result"
    }
   ],
   "source": [
    "t = np.linspace(np.min(train_data), np.max(train_data), 1024)\n",
    "t"
   ]
  },
  {
   "cell_type": "code",
   "execution_count": null,
   "id": "c697ae3e",
   "metadata": {},
   "outputs": [],
   "source": []
  },
  {
   "cell_type": "code",
   "execution_count": null,
   "id": "89d651e3",
   "metadata": {},
   "outputs": [],
   "source": []
  },
  {
   "cell_type": "code",
   "execution_count": null,
   "id": "7ae8cc6b",
   "metadata": {},
   "outputs": [],
   "source": []
  },
  {
   "cell_type": "code",
   "execution_count": null,
   "id": "ce1f5c9a",
   "metadata": {},
   "outputs": [],
   "source": []
  },
  {
   "cell_type": "code",
   "execution_count": 10,
   "id": "5ac7ebc2",
   "metadata": {},
   "outputs": [
    {
     "ename": "ValueError",
     "evalue": "invalid number of arguments",
     "output_type": "error",
     "traceback": [
      "\u001B[0;31m---------------------------------------------------------------------------\u001B[0m",
      "\u001B[0;31mValueError\u001B[0m                                Traceback (most recent call last)",
      "\u001B[0;32m/tmp/ipykernel_282/3081485449.py\u001B[0m in \u001B[0;36m<module>\u001B[0;34m\u001B[0m\n\u001B[0;32m----> 1\u001B[0;31m \u001B[0mnp\u001B[0m\u001B[0;34m.\u001B[0m\u001B[0mmaximum\u001B[0m\u001B[0;34m(\u001B[0m\u001B[0;34m)\u001B[0m\u001B[0;34m\u001B[0m\u001B[0;34m\u001B[0m\u001B[0m\n\u001B[0m",
      "\u001B[0;31mValueError\u001B[0m: invalid number of arguments"
     ]
    }
   ],
   "source": [
    "np.maximum()"
   ]
  },
  {
   "cell_type": "code",
   "execution_count": null,
   "id": "0dfdbc84",
   "metadata": {},
   "outputs": [],
   "source": []
  },
  {
   "cell_type": "code",
   "execution_count": null,
   "id": "04143846",
   "metadata": {},
   "outputs": [],
   "source": []
  },
  {
   "cell_type": "code",
   "execution_count": null,
   "id": "899df7a5",
   "metadata": {},
   "outputs": [],
   "source": []
  },
  {
   "cell_type": "code",
   "execution_count": null,
   "id": "e6a98ae0",
   "metadata": {},
   "outputs": [],
   "source": []
  },
  {
   "cell_type": "code",
   "execution_count": null,
   "id": "c6451450",
   "metadata": {},
   "outputs": [],
   "source": []
  },
  {
   "cell_type": "code",
   "execution_count": null,
   "id": "2d5b153e",
   "metadata": {},
   "outputs": [],
   "source": []
  },
  {
   "cell_type": "code",
   "execution_count": null,
   "id": "45848d55",
   "metadata": {},
   "outputs": [],
   "source": [
    "for data in train_data:\n",
    "    result = classify([3,3], v)\n",
    "    print(result)"
   ]
  },
  {
   "cell_type": "code",
   "execution_count": null,
   "id": "a6999baa",
   "metadata": {},
   "outputs": [],
   "source": []
  },
  {
   "cell_type": "code",
   "execution_count": null,
   "id": "0f92f82f",
   "metadata": {},
   "outputs": [],
   "source": []
  },
  {
   "cell_type": "code",
   "execution_count": null,
   "id": "f0ea8ebd",
   "metadata": {},
   "outputs": [],
   "source": []
  },
  {
   "cell_type": "code",
   "execution_count": null,
   "id": "51627c8a",
   "metadata": {},
   "outputs": [],
   "source": []
  },
  {
   "cell_type": "code",
   "execution_count": null,
   "id": "ea569070",
   "metadata": {},
   "outputs": [],
   "source": []
  },
  {
   "cell_type": "code",
   "execution_count": null,
   "id": "60e3d5b2",
   "metadata": {},
   "outputs": [],
   "source": []
  },
  {
   "cell_type": "code",
   "execution_count": null,
   "id": "3d63dd15",
   "metadata": {},
   "outputs": [],
   "source": []
  },
  {
   "cell_type": "code",
   "execution_count": null,
   "id": "734cd5ca",
   "metadata": {},
   "outputs": [],
   "source": []
  },
  {
   "cell_type": "code",
   "execution_count": null,
   "id": "b2ba8f0d",
   "metadata": {},
   "outputs": [],
   "source": []
  },
  {
   "cell_type": "code",
   "execution_count": null,
   "id": "bb4cf3b6",
   "metadata": {},
   "outputs": [],
   "source": [
    "np.dot(train_data[0],v)"
   ]
  },
  {
   "cell_type": "code",
   "execution_count": null,
   "id": "840bbdc5",
   "metadata": {},
   "outputs": [],
   "source": []
  },
  {
   "cell_type": "code",
   "execution_count": null,
   "id": "17bb8b6f",
   "metadata": {},
   "outputs": [],
   "source": []
  },
  {
   "cell_type": "code",
   "execution_count": null,
   "id": "b283ae0d",
   "metadata": {},
   "outputs": [],
   "source": []
  },
  {
   "cell_type": "code",
   "execution_count": null,
   "id": "f110a38a",
   "metadata": {},
   "outputs": [],
   "source": []
  },
  {
   "cell_type": "code",
   "execution_count": null,
   "id": "a7a8afe1",
   "metadata": {},
   "outputs": [],
   "source": [
    "train_data.shape"
   ]
  },
  {
   "cell_type": "code",
   "execution_count": null,
   "id": "9ffe9de6",
   "metadata": {},
   "outputs": [],
   "source": []
  },
  {
   "cell_type": "code",
   "execution_count": null,
   "id": "a071e21c",
   "metadata": {},
   "outputs": [],
   "source": []
  },
  {
   "cell_type": "code",
   "execution_count": null,
   "id": "535994f8",
   "metadata": {},
   "outputs": [],
   "source": []
  }
 ],
 "metadata": {
  "kernelspec": {
   "display_name": "Python 3 (ipykernel)",
   "language": "python",
   "name": "python3"
  },
  "language_info": {
   "codemirror_mode": {
    "name": "ipython",
    "version": 3
   },
   "file_extension": ".py",
   "mimetype": "text/x-python",
   "name": "python",
   "nbconvert_exporter": "python",
   "pygments_lexer": "ipython3",
   "version": "3.9.5"
  }
 },
 "nbformat": 4,
 "nbformat_minor": 5
}
