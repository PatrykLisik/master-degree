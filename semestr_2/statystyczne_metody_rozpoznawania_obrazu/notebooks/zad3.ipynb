{
 "cells": [
  {
   "cell_type": "code",
   "execution_count": 1,
   "id": "3c91ce03",
   "metadata": {},
   "outputs": [],
   "source": [
    "import numpy as np\n",
    "from itertools import cycle\n",
    "import matplotlib.pyplot as plt\n",
    "from matplotlib.animation import FuncAnimation\n",
    "from IPython import display\n",
    "from matplotlib.colors import ListedColormap\n",
    "import pandas as pd"
   ]
  },
  {
   "cell_type": "markdown",
   "id": "85071b73",
   "metadata": {},
   "source": [
    "\n",
    "# Import danych"
   ]
  },
  {
   "cell_type": "code",
   "execution_count": 2,
   "id": "1c67621e",
   "metadata": {
    "scrolled": true
   },
   "outputs": [
    {
     "data": {
      "text/plain": [
       "array([[ 4.,  2.,  1.],\n",
       "       [ 2.,  4.,  1.],\n",
       "       [ 4.,  4.,  1.],\n",
       "       [-3., -1., -1.],\n",
       "       [-1., -3., -1.]], dtype=float128)"
      ]
     },
     "execution_count": 2,
     "metadata": {},
     "output_type": "execute_result"
    }
   ],
   "source": [
    "train_file_path = \"../data/data3.txt\"\n",
    "max_iter_count = 1000\n",
    "classes = [1,2]\n",
    "\n",
    "train_data = np.genfromtxt(train_file_path,  delimiter=\"  \", skip_header=1, dtype=np.float128)\n",
    "# Replace classes with 1 and -1\n",
    "train_data[:,0][train_data[:,0]==classes[0]]=1\n",
    "train_data[:,0][train_data[:,0]==classes[1]]=-1\n",
    "#swap columns first and last columns\n",
    "train_data[:, 0], train_data[:, -1] = train_data[:, -1], train_data[:, 0].copy()\n",
    "train_data"
   ]
  },
  {
   "cell_type": "markdown",
   "id": "efc8228e",
   "metadata": {},
   "source": [
    "# Dane \n"
   ]
  },
  {
   "cell_type": "code",
   "execution_count": 3,
   "id": "03afd496",
   "metadata": {},
   "outputs": [
    {
     "data": {
      "image/png": "[encoded data removed]",
      "text/plain": [
       "<Figure size 640x480 with 1 Axes>"
      ]
     },
     "metadata": {},
     "output_type": "display_data"
    }
   ],
   "source": [
    "plt.scatter(train_data[:,0],train_data[:,1],c=train_data[:,2])\n",
    "plt.grid()"
   ]
  },
  {
   "cell_type": "markdown",
   "id": "845e8f7f",
   "metadata": {},
   "source": [
    "# Algorytm"
   ]
  },
  {
   "cell_type": "code",
   "execution_count": 4,
   "id": "2213bad2",
   "metadata": {},
   "outputs": [],
   "source": [
    "def discrimiantion_fucntion(data,current_v):\n",
    "    return np.inner(data,current_v[:-1])+current_v[-1]\n",
    "\n",
    "def classify(data, current_v):\n",
    "    discrimiation_fucntion_value = discrimiantion_fucntion(data,current_v)\n",
    "    if discrimiation_fucntion_value>0:\n",
    "        return 1\n",
    "    return -1\n",
    "\n",
    "def error_count(data,current_v):\n",
    "    expected_value = data[:,-1] # 1 -1\n",
    "    actual_values = np.array([classify(data_row[:-1],current_v) for data_row in data])\n",
    "    return np.sum(expected_value!=actual_values)"
   ]
  },
  {
   "cell_type": "code",
   "execution_count": 14,
   "id": "6d20454b",
   "metadata": {
    "scrolled": true,
    "tags": []
   },
   "outputs": [
    {
     "name": "stdout",
     "output_type": "stream",
     "text": [
      "[4. 2. 1.]\n",
      "Iteration 0    | product = 0.0   | current_error_count=0.0\n",
      "[2. 4. 1.]\n",
      "Iteration 1    | product = 17.0  | current_error_count=0.0\n",
      "[4. 4. 1.]\n",
      "Iteration 2    | product = 25.0  | current_error_count=0.0\n",
      "[-3. -1. -1.]\n",
      "Iteration 3    | product = -15.0 | current_error_count=0.0\n",
      "[-1. -3. -1.]\n",
      "Iteration 4    | product = -4.0  | current_error_count=1.0\n",
      "[4. 2. 1.]\n",
      "Iteration 5    | product = -5.0  | current_error_count=0.0\n",
      "[2. 4. 1.]\n",
      "Iteration 6    | product = 8.0   | current_error_count=0.0\n",
      "[4. 4. 1.]\n",
      "Iteration 7    | product = 16.0  | current_error_count=0.0\n",
      "[-3. -1. -1.]\n",
      "Iteration 8    | product = -12.0 | current_error_count=0.6\n",
      "[-1. -3. -1.]\n",
      "Iteration 9    | product = 3.0   | current_error_count=0.6\n",
      "[4. 2. 1.]\n",
      "Iteration 10   | product = 1.0   | current_error_count=0.6\n",
      "[2. 4. 1.]\n",
      "Iteration 11   | product = -3.0  | current_error_count=0.0\n",
      "[4. 4. 1.]\n",
      "Iteration 12   | product = 24.0  | current_error_count=0.0\n",
      "[-3. -1. -1.]\n",
      "Iteration 13   | product = -12.0 | current_error_count=0.0\n",
      "[-1. -3. -1.]\n",
      "Iteration 14   | product = -5.0  | current_error_count=1.0\n",
      "[4. 2. 1.]\n",
      "Iteration 15   | product = -8.0  | current_error_count=0.0\n",
      "[2. 4. 1.]\n",
      "Iteration 16   | product = 9.0   | current_error_count=0.0\n",
      "[4. 4. 1.]\n",
      "Iteration 17   | product = 15.0  | current_error_count=0.0\n",
      "[-3. -1. -1.]\n",
      "Iteration 18   | product = -9.0  | current_error_count=0.6\n",
      "[-1. -3. -1.]\n",
      "Iteration 19   | product = 2.0   | current_error_count=0.6\n",
      "[4. 2. 1.]\n",
      "Iteration 20   | product = -2.0  | current_error_count=0.0\n",
      "[2. 4. 1.]\n",
      "Iteration 21   | product = 15.0  | current_error_count=0.0\n",
      "[4. 4. 1.]\n",
      "Iteration 22   | product = 23.0  | current_error_count=0.0\n",
      "[-3. -1. -1.]\n",
      "Iteration 23   | product = -13.0 | current_error_count=0.0\n",
      "[-1. -3. -1.]\n",
      "Iteration 24   | product = -2.0  | current_error_count=0.8\n",
      "[4. 2. 1.]\n",
      "Iteration 25   | product = -7.0  | current_error_count=0.0\n",
      "[2. 4. 1.]\n",
      "Iteration 26   | product = 6.0   | current_error_count=0.0\n",
      "[4. 4. 1.]\n",
      "Iteration 27   | product = 14.0  | current_error_count=0.0\n",
      "[-3. -1. -1.]\n",
      "Iteration 28   | product = -10.0 | current_error_count=0.6\n",
      "[-1. -3. -1.]\n",
      "Iteration 29   | product = 5.0   | current_error_count=0.6\n",
      "[4. 2. 1.]\n",
      "Iteration 30   | product = -1.0  | current_error_count=0.0\n",
      "[2. 4. 1.]\n",
      "Iteration 31   | product = 12.0  | current_error_count=0.0\n",
      "[4. 4. 1.]\n",
      "Iteration 32   | product = 22.0  | current_error_count=0.0\n",
      "[-3. -1. -1.]\n",
      "Iteration 33   | product = -14.0 | current_error_count=0.0\n",
      "[-1. -3. -1.]\n",
      "Iteration 34   | product = 1.0   | current_error_count=0.0\n",
      "[4. 2. 1.]\n",
      "Iteration 35   | product = 5.0   | current_error_count=0.0\n",
      "[2. 4. 1.]\n",
      "Iteration 36   | product = 1.0   | current_error_count=0.0\n",
      "[4. 4. 1.]\n",
      "Iteration 37   | product = 5.0   | current_error_count=0.0\n",
      "[-3. -1. -1.]\n",
      "Iteration 38   | product = -3.0  | current_error_count=0.6\n",
      "[-1. -3. -1.]\n",
      "Iteration 39   | product = 8.0   | current_error_count=0.6\n",
      "[4. 2. 1.]\n",
      "Iteration 40   | product = -10.0 | current_error_count=0.0\n",
      "[2. 4. 1.]\n",
      "Iteration 41   | product = 7.0   | current_error_count=0.0\n",
      "[4. 4. 1.]\n",
      "Iteration 42   | product = 13.0  | current_error_count=0.0\n",
      "[-3. -1. -1.]\n",
      "Iteration 43   | product = -7.0  | current_error_count=0.6\n",
      "[-1. -3. -1.]\n",
      "Iteration 44   | product = 4.0   | current_error_count=0.6\n",
      "[4. 2. 1.]\n",
      "Iteration 45   | product = -4.0  | current_error_count=0.0\n",
      "[2. 4. 1.]\n",
      "Iteration 46   | product = 13.0  | current_error_count=0.0\n",
      "[4. 4. 1.]\n",
      "Iteration 47   | product = 21.0  | current_error_count=0.0\n",
      "[-3. -1. -1.]\n",
      "Iteration 48   | product = -11.0 | current_error_count=0.0\n",
      "[-1. -3. -1.]\n",
      "Iteration 49   | product = 0.0   | current_error_count=0.8\n",
      "[4. 2. 1.]\n",
      "Iteration 50   | product = -9.0  | current_error_count=0.0\n",
      "[2. 4. 1.]\n",
      "Iteration 51   | product = 4.0   | current_error_count=0.0\n",
      "[4. 4. 1.]\n",
      "Iteration 52   | product = 12.0  | current_error_count=0.0\n",
      "[-3. -1. -1.]\n",
      "Iteration 53   | product = -8.0  | current_error_count=0.6\n",
      "[-1. -3. -1.]\n",
      "Iteration 54   | product = 7.0   | current_error_count=0.6\n",
      "[4. 2. 1.]\n",
      "Iteration 55   | product = -3.0  | current_error_count=0.0\n",
      "[2. 4. 1.]\n",
      "Iteration 56   | product = 10.0  | current_error_count=0.0\n",
      "[4. 4. 1.]\n",
      "Iteration 57   | product = 20.0  | current_error_count=0.0\n",
      "[-3. -1. -1.]\n",
      "Iteration 58   | product = -12.0 | current_error_count=0.2\n",
      "[-1. -3. -1.]\n",
      "Iteration 59   | product = 3.0   | current_error_count=0.2\n",
      "[4. 2. 1.]\n",
      "Iteration 60   | product = 3.0   | current_error_count=0.2\n",
      "[2. 4. 1.]\n",
      "Iteration 61   | product = -1.0  | current_error_count=0.0\n",
      "[4. 4. 1.]\n",
      "Iteration 62   | product = 28.0  | current_error_count=0.0\n",
      "[-3. -1. -1.]\n",
      "Iteration 63   | product = -12.0 | current_error_count=0.0\n",
      "[-1. -3. -1.]\n",
      "Iteration 64   | product = -5.0  | current_error_count=0.6\n",
      "[4. 2. 1.]\n",
      "Iteration 65   | product = -6.0  | current_error_count=0.0\n",
      "[2. 4. 1.]\n",
      "Iteration 66   | product = 11.0  | current_error_count=0.0\n",
      "[4. 4. 1.]\n",
      "Iteration 67   | product = 19.0  | current_error_count=0.0\n",
      "[-3. -1. -1.]\n",
      "Iteration 68   | product = -9.0  | current_error_count=0.4\n",
      "[-1. -3. -1.]\n",
      "Iteration 69   | product = 2.0   | current_error_count=0.4\n",
      "[4. 2. 1.]\n",
      "Iteration 70   | product = 0.0   | current_error_count=0.0\n",
      "[2. 4. 1.]\n",
      "Iteration 71   | product = 17.0  | current_error_count=0.0\n",
      "[4. 4. 1.]\n",
      "Iteration 72   | product = 27.0  | current_error_count=0.0\n",
      "[-3. -1. -1.]\n",
      "Iteration 73   | product = -13.0 | current_error_count=0.0\n",
      "[-1. -3. -1.]\n",
      "Iteration 74   | product = -2.0  | current_error_count=0.6\n",
      "[4. 2. 1.]\n",
      "Iteration 75   | product = -5.0  | current_error_count=0.0\n",
      "[2. 4. 1.]\n",
      "Iteration 76   | product = 8.0   | current_error_count=0.0\n",
      "[4. 4. 1.]\n",
      "Iteration 77   | product = 18.0  | current_error_count=0.0\n",
      "[-3. -1. -1.]\n",
      "Iteration 78   | product = -10.0 | current_error_count=0.2\n",
      "[-1. -3. -1.]\n",
      "Iteration 79   | product = 5.0   | current_error_count=0.2\n",
      "[4. 2. 1.]\n",
      "Iteration 80   | product = 1.0   | current_error_count=0.2\n",
      "[2. 4. 1.]\n",
      "Iteration 81   | product = -3.0  | current_error_count=0.0\n",
      "[4. 4. 1.]\n",
      "Iteration 82   | product = 26.0  | current_error_count=0.0\n",
      "[-3. -1. -1.]\n",
      "Iteration 83   | product = -10.0 | current_error_count=0.0\n",
      "[-1. -3. -1.]\n",
      "Iteration 84   | product = -3.0  | current_error_count=0.6\n",
      "[4. 2. 1.]\n",
      "Iteration 85   | product = -8.0  | current_error_count=0.0\n",
      "[2. 4. 1.]\n",
      "Iteration 86   | product = 9.0   | current_error_count=0.0\n",
      "[4. 4. 1.]\n",
      "Iteration 87   | product = 17.0  | current_error_count=0.0\n",
      "[-3. -1. -1.]\n",
      "Iteration 88   | product = -7.0  | current_error_count=0.6\n",
      "[-1. -3. -1.]\n",
      "Iteration 89   | product = 4.0   | current_error_count=0.6\n",
      "[4. 2. 1.]\n",
      "Iteration 90   | product = -2.0  | current_error_count=0.0\n",
      "[2. 4. 1.]\n",
      "Iteration 91   | product = 15.0  | current_error_count=0.0\n",
      "[4. 4. 1.]\n",
      "Iteration 92   | product = 25.0  | current_error_count=0.0\n",
      "[-3. -1. -1.]\n",
      "Iteration 93   | product = -11.0 | current_error_count=0.0\n",
      "[-1. -3. -1.]\n",
      "Iteration 94   | product = 0.0   | current_error_count=0.6\n",
      "[4. 2. 1.]\n",
      "Iteration 95   | product = -7.0  | current_error_count=0.0\n",
      "[2. 4. 1.]\n",
      "Iteration 96   | product = 6.0   | current_error_count=0.0\n",
      "[4. 4. 1.]\n",
      "Iteration 97   | product = 16.0  | current_error_count=0.0\n",
      "[-3. -1. -1.]\n",
      "Iteration 98   | product = -8.0  | current_error_count=0.6\n",
      "[-1. -3. -1.]\n",
      "Iteration 99   | product = 7.0   | current_error_count=0.6\n",
      "[4. 2. 1.]\n",
      "Iteration 100  | product = -1.0  | current_error_count=0.0\n",
      "[2. 4. 1.]\n",
      "Iteration 101  | product = 12.0  | current_error_count=0.0\n",
      "[4. 4. 1.]\n",
      "Iteration 102  | product = 24.0  | current_error_count=0.0\n",
      "[-3. -1. -1.]\n",
      "Iteration 103  | product = -12.0 | current_error_count=0.0\n",
      "[-1. -3. -1.]\n",
      "Iteration 104  | product = 3.0   | current_error_count=0.0\n",
      "[4. 2. 1.]\n",
      "Iteration 105  | product = 5.0   | current_error_count=0.0\n",
      "[2. 4. 1.]\n",
      "Iteration 106  | product = 1.0   | current_error_count=0.0\n",
      "[4. 4. 1.]\n",
      "Iteration 107  | product = 7.0   | current_error_count=0.0\n",
      "[-3. -1. -1.]\n",
      "Iteration 108  | product = -1.0  | current_error_count=0.6\n",
      "[-1. -3. -1.]\n",
      "Iteration 109  | product = 10.0  | current_error_count=0.6\n",
      "[4. 2. 1.]\n",
      "Iteration 110  | product = -10.0 | current_error_count=0.0\n",
      "[2. 4. 1.]\n",
      "Iteration 111  | product = 7.0   | current_error_count=0.0\n",
      "[4. 4. 1.]\n",
      "Iteration 112  | product = 15.0  | current_error_count=0.0\n",
      "[-3. -1. -1.]\n",
      "Iteration 113  | product = -5.0  | current_error_count=0.6\n",
      "[-1. -3. -1.]\n",
      "Iteration 114  | product = 6.0   | current_error_count=0.6\n",
      "[4. 2. 1.]\n",
      "Iteration 115  | product = -4.0  | current_error_count=0.0\n",
      "[2. 4. 1.]\n",
      "Iteration 116  | product = 13.0  | current_error_count=0.0\n",
      "[4. 4. 1.]\n",
      "Iteration 117  | product = 23.0  | current_error_count=0.0\n",
      "[-3. -1. -1.]\n",
      "Iteration 118  | product = -9.0  | current_error_count=0.0\n",
      "[-1. -3. -1.]\n",
      "Iteration 119  | product = 2.0   | current_error_count=0.0\n",
      "[4. 2. 1.]\n",
      "Iteration 120  | product = 2.0   | current_error_count=0.0\n",
      "[2. 4. 1.]\n",
      "Iteration 121  | product = 2.0   | current_error_count=0.0\n",
      "[4. 4. 1.]\n",
      "Iteration 122  | product = 6.0   | current_error_count=0.0\n",
      "[-3. -1. -1.]\n",
      "Iteration 123  | product = 2.0   | current_error_count=0.0\n"
     ]
    }
   ],
   "source": [
    "v = np.zeros(train_data.shape[1])\n",
    "best_v = np.zeros(train_data.shape[1])\n",
    "best_error_count = np.Inf # lower better\n",
    "no_train_count = 0\n",
    "for index, train_row in enumerate(cycle(train_data)):\n",
    "    if no_train_count>4 or index>max_iter_count:\n",
    "        break\n",
    "    print(train_row)\n",
    "    product = np.inner(train_row,v)\n",
    "    if product<=0:\n",
    "        v+=train_row\n",
    "        no_train_count=0\n",
    "    else:\n",
    "        no_train_count +=1\n",
    "    \n",
    "    current_error_count = error_count(train_data, v)\n",
    "    if current_error_count<=best_error_count:\n",
    "        best_error_count = current_error_count\n",
    "        best_v = v.copy()\n",
    "    print(f\"Iteration {index:<4} | product = {np.round(product,2):<5} | current_error_count={current_error_count/train_data.shape[0]}\")\n",
    "\n"
   ]
  },
  {
   "cell_type": "code",
   "execution_count": 6,
   "id": "0aa67d4c",
   "metadata": {},
   "outputs": [
    {
     "data": {
      "text/plain": [
       "array([[False, False, False, ..., False, False, False],\n",
       "       [False, False, False, ..., False, False, False],\n",
       "       [False, False, False, ..., False, False, False],\n",
       "       ...,\n",
       "       [False, False, False, ...,  True,  True,  True],\n",
       "       [False, False, False, ...,  True,  True,  True],\n",
       "       [False, False, False, ...,  True,  True,  True]])"
      ]
     },
     "execution_count": 6,
     "metadata": {},
     "output_type": "execute_result"
    }
   ],
   "source": [
    "@np.vectorize\n",
    "def discrimination_func(x,y):\n",
    "    return (best_v[0]*x+best_v[1]*y+best_v[2])>0\n",
    "x = np.linspace(np.min(train_data)*1.3, np.max(train_data)*1.3, 1000)\n",
    "X,Y = np.meshgrid(x,x)\n",
    "X = X.T\n",
    "Y = Y.T\n",
    "Z = discrimination_func(X, Y)\n",
    "Z"
   ]
  },
  {
   "cell_type": "code",
   "execution_count": 7,
   "id": "655d84fa",
   "metadata": {},
   "outputs": [
    {
     "data": {
      "image/png": "[encoded data removed]",
      "text/plain": [
       "<Figure size 640x480 with 2 Axes>"
      ]
     },
     "metadata": {},
     "output_type": "display_data"
    }
   ],
   "source": [
    "h= plt.contourf(X, Y, Z)\n",
    "markers = np.array(train_data[:,2]+2, dtype=np.int64).astype(str)\n",
    "plt.scatter(train_data[:,0],train_data[:,1])\n",
    "plt.colorbar(h, label=\"Discrimiantion function value\")\n",
    "plt.axhline(y=0, color='k')\n",
    "plt.axvline(x=0, color='k')\n",
    "plt.tight_layout()"
   ]
  },
  {
   "cell_type": "code",
   "execution_count": 8,
   "id": "ce89748d",
   "metadata": {},
   "outputs": [
    {
     "data": {
      "text/plain": [
       "array([  2.,   2., -10.])"
      ]
     },
     "execution_count": 8,
     "metadata": {},
     "output_type": "execute_result"
    }
   ],
   "source": [
    "best_v"
   ]
  },
  {
   "cell_type": "code",
   "execution_count": null,
   "id": "449cefd0",
   "metadata": {},
   "outputs": [],
   "source": []
  },
  {
   "cell_type": "code",
   "execution_count": null,
   "id": "e732fb32",
   "metadata": {},
   "outputs": [],
   "source": []
  },
  {
   "cell_type": "code",
   "execution_count": null,
   "id": "34a6bc13",
   "metadata": {},
   "outputs": [],
   "source": []
  },
  {
   "cell_type": "code",
   "execution_count": null,
   "id": "16e309ef",
   "metadata": {},
   "outputs": [],
   "source": []
  },
  {
   "cell_type": "code",
   "execution_count": null,
   "id": "372437c8",
   "metadata": {},
   "outputs": [],
   "source": []
  },
  {
   "cell_type": "code",
   "execution_count": null,
   "id": "8d3e3893",
   "metadata": {},
   "outputs": [],
   "source": []
  },
  {
   "cell_type": "code",
   "execution_count": null,
   "id": "2ff05498",
   "metadata": {},
   "outputs": [],
   "source": []
  },
  {
   "cell_type": "code",
   "execution_count": null,
   "id": "b01ec1b7",
   "metadata": {},
   "outputs": [],
   "source": []
  },
  {
   "cell_type": "code",
   "execution_count": null,
   "id": "a0f2b59f",
   "metadata": {},
   "outputs": [],
   "source": []
  },
  {
   "cell_type": "code",
   "execution_count": null,
   "id": "43bb4380",
   "metadata": {},
   "outputs": [],
   "source": []
  },
  {
   "cell_type": "code",
   "execution_count": null,
   "id": "8adce07c",
   "metadata": {},
   "outputs": [],
   "source": []
  },
  {
   "cell_type": "code",
   "execution_count": null,
   "id": "c555f41c",
   "metadata": {},
   "outputs": [],
   "source": []
  },
  {
   "cell_type": "code",
   "execution_count": 9,
   "id": "224df623",
   "metadata": {},
   "outputs": [
    {
     "data": {
      "text/plain": [
       "array([-3.        , -2.99315738, -2.98631476, ...,  3.98631476,\n",
       "        3.99315738,  4.        ], dtype=float128)"
      ]
     },
     "execution_count": 9,
     "metadata": {},
     "output_type": "execute_result"
    }
   ],
   "source": [
    "t = np.linspace(np.min(train_data), np.max(train_data), 1024)\n",
    "t"
   ]
  },
  {
   "cell_type": "code",
   "execution_count": null,
   "id": "c697ae3e",
   "metadata": {},
   "outputs": [],
   "source": []
  },
  {
   "cell_type": "code",
   "execution_count": null,
   "id": "89d651e3",
   "metadata": {},
   "outputs": [],
   "source": []
  },
  {
   "cell_type": "code",
   "execution_count": null,
   "id": "7ae8cc6b",
   "metadata": {},
   "outputs": [],
   "source": []
  },
  {
   "cell_type": "code",
   "execution_count": null,
   "id": "ce1f5c9a",
   "metadata": {},
   "outputs": [],
   "source": []
  },
  {
   "cell_type": "code",
   "execution_count": 10,
   "id": "5ac7ebc2",
   "metadata": {},
   "outputs": [
    {
     "ename": "TypeError",
     "evalue": "maximum() takes from 2 to 3 positional arguments but 0 were given",
     "output_type": "error",
     "traceback": [
      "\u001b[0;31m---------------------------------------------------------------------------\u001b[0m",
      "\u001b[0;31mTypeError\u001b[0m                                 Traceback (most recent call last)",
      "Cell \u001b[0;32mIn[10], line 1\u001b[0m\n\u001b[0;32m----> 1\u001b[0m \u001b[43mnp\u001b[49m\u001b[38;5;241;43m.\u001b[39;49m\u001b[43mmaximum\u001b[49m\u001b[43m(\u001b[49m\u001b[43m)\u001b[49m\n",
      "\u001b[0;31mTypeError\u001b[0m: maximum() takes from 2 to 3 positional arguments but 0 were given"
     ]
    }
   ],
   "source": [
    "np.maximum()"
   ]
  },
  {
   "cell_type": "code",
   "execution_count": null,
   "id": "0dfdbc84",
   "metadata": {},
   "outputs": [],
   "source": []
  },
  {
   "cell_type": "code",
   "execution_count": null,
   "id": "04143846",
   "metadata": {},
   "outputs": [],
   "source": []
  },
  {
   "cell_type": "code",
   "execution_count": null,
   "id": "899df7a5",
   "metadata": {},
   "outputs": [],
   "source": []
  },
  {
   "cell_type": "code",
   "execution_count": null,
   "id": "e6a98ae0",
   "metadata": {},
   "outputs": [],
   "source": []
  },
  {
   "cell_type": "code",
   "execution_count": null,
   "id": "c6451450",
   "metadata": {},
   "outputs": [],
   "source": []
  },
  {
   "cell_type": "code",
   "execution_count": null,
   "id": "2d5b153e",
   "metadata": {},
   "outputs": [],
   "source": []
  },
  {
   "cell_type": "code",
   "execution_count": null,
   "id": "45848d55",
   "metadata": {},
   "outputs": [],
   "source": [
    "for data in train_data:\n",
    "    result = classify([3,3], v)\n",
    "    print(result)"
   ]
  },
  {
   "cell_type": "code",
   "execution_count": null,
   "id": "a6999baa",
   "metadata": {},
   "outputs": [],
   "source": []
  },
  {
   "cell_type": "code",
   "execution_count": null,
   "id": "0f92f82f",
   "metadata": {},
   "outputs": [],
   "source": []
  },
  {
   "cell_type": "code",
   "execution_count": null,
   "id": "f0ea8ebd",
   "metadata": {},
   "outputs": [],
   "source": []
  },
  {
   "cell_type": "code",
   "execution_count": null,
   "id": "51627c8a",
   "metadata": {},
   "outputs": [],
   "source": []
  },
  {
   "cell_type": "code",
   "execution_count": null,
   "id": "ea569070",
   "metadata": {},
   "outputs": [],
   "source": []
  },
  {
   "cell_type": "code",
   "execution_count": null,
   "id": "60e3d5b2",
   "metadata": {},
   "outputs": [],
   "source": []
  },
  {
   "cell_type": "code",
   "execution_count": null,
   "id": "3d63dd15",
   "metadata": {},
   "outputs": [],
   "source": []
  },
  {
   "cell_type": "code",
   "execution_count": null,
   "id": "734cd5ca",
   "metadata": {},
   "outputs": [],
   "source": []
  },
  {
   "cell_type": "code",
   "execution_count": null,
   "id": "b2ba8f0d",
   "metadata": {},
   "outputs": [],
   "source": []
  },
  {
   "cell_type": "code",
   "execution_count": null,
   "id": "bb4cf3b6",
   "metadata": {},
   "outputs": [],
   "source": [
    "np.dot(train_data[0],v)"
   ]
  },
  {
   "cell_type": "code",
   "execution_count": null,
   "id": "840bbdc5",
   "metadata": {},
   "outputs": [],
   "source": []
  },
  {
   "cell_type": "code",
   "execution_count": null,
   "id": "17bb8b6f",
   "metadata": {},
   "outputs": [],
   "source": []
  },
  {
   "cell_type": "code",
   "execution_count": null,
   "id": "b283ae0d",
   "metadata": {},
   "outputs": [],
   "source": []
  },
  {
   "cell_type": "code",
   "execution_count": null,
   "id": "f110a38a",
   "metadata": {},
   "outputs": [],
   "source": []
  },
  {
   "cell_type": "code",
   "execution_count": null,
   "id": "a7a8afe1",
   "metadata": {},
   "outputs": [],
   "source": [
    "train_data.shape"
   ]
  },
  {
   "cell_type": "code",
   "execution_count": null,
   "id": "9ffe9de6",
   "metadata": {},
   "outputs": [],
   "source": []
  },
  {
   "cell_type": "code",
   "execution_count": null,
   "id": "a071e21c",
   "metadata": {},
   "outputs": [],
   "source": []
  },
  {
   "cell_type": "code",
   "execution_count": null,
   "id": "535994f8",
   "metadata": {},
   "outputs": [],
   "source": []
  }
 ],
 "metadata": {
  "kernelspec": {
   "display_name": "Python 3 (ipykernel)",
   "language": "python",
   "name": "python3"
  },
  "language_info": {
   "codemirror_mode": {
    "name": "ipython",
    "version": 3
   },
   "file_extension": ".py",
   "mimetype": "text/x-python",
   "name": "python",
   "nbconvert_exporter": "python",
   "pygments_lexer": "ipython3",
   "version": "3.10.10"
  }
 },
 "nbformat": 4,
 "nbformat_minor": 5
}
