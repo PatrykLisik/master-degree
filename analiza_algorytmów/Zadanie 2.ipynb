{
 "cells": [
  {
   "cell_type": "code",
   "execution_count": 14,
   "id": "e60d58bf",
   "metadata": {},
   "outputs": [],
   "source": [
    "import numpy as np\n",
    "import pandas as pd\n",
    "import matplotlib.pyplot as plt\n",
    "from labellines import labelLine, labelLines"
   ]
  },
  {
   "cell_type": "markdown",
   "id": "8f99e38b",
   "metadata": {},
   "source": [
    "# A\n"
   ]
  },
  {
   "cell_type": "code",
   "execution_count": 43,
   "id": "55c71df8",
   "metadata": {},
   "outputs": [],
   "source": [
    "def n(x):\n",
    "    return x\n",
    "def log_2_n(x):\n",
    "    return np.log2(x)\n",
    "def n_log_2(x):\n",
    "    return x*np.log2(x)\n",
    "def factorial(n):\n",
    "    return [np.math.factorial(int(n1)) for n1 in n]\n",
    "def two_to_n(n):\n",
    "    return np.power(2, n)\n",
    "\n",
    "def flog2(x):\n",
    "    \"\"\"Floor of log2\"\"\"\n",
    "    if x <= 0:\n",
    "        raise ValueError(\"domain error\")\n",
    "    return x.bit_length() - 1\n",
    "\n",
    "def log_2_n_fac(x):\n",
    "    return [flog2(np.math.factorial(int(x1))) for x1 in x ]\n",
    "\n",
    "def n_to_2(n):\n",
    "    return np.power(n, 2)\n",
    "\n",
    "def sqrt(n):\n",
    "    return np.sqrt(n)\n",
    "\n",
    "\n",
    "def sqrt_log_2_n(n): # i\n",
    "    return np.sqrt(n)*np.log2(n)\n",
    "\n",
    "def n_sqrt(n): # j\n",
    "    return n*np.sqrt(n)\n",
    "\n",
    "def log_2_n_squared(x): # k\n",
    "    return np.power(np.log2(x),2)\n",
    "\n",
    "def log_2_n_square(x): # l\n",
    "    return np.log2( np.power(x,2)) \n",
    "\n",
    "def sqrt_n_log_2_n(x):\n",
    "    return np.sqrt(x*np.log2(x))\n",
    "\n",
    "def n_sqrt_log_2_n(x):\n",
    "    return x*np.sqrt(np.log2(x))\n",
    "\n",
    "def one(x):\n",
    "    return [1 for _ in x]\n",
    "\n",
    "def n_log_n_square(x):\n",
    "    return np.power(x*np.log2(x),2)"
   ]
  },
  {
   "cell_type": "code",
   "execution_count": 46,
   "id": "9895479c",
   "metadata": {},
   "outputs": [],
   "source": [
    "y=np.linspace(1,30)\n",
    "x1 = log_2_n(y)"
   ]
  },
  {
   "cell_type": "code",
   "execution_count": 52,
   "id": "d81ef1a3",
   "metadata": {},
   "outputs": [
    {
     "data": {
      "application/vnd.jupyter.widget-view+json": {
       "model_id": "0ba3c0e9a8c04111aac89284c50e92e7",
       "version_major": 2,
       "version_minor": 0
      },
      "text/plain": [
       "Canvas(toolbar=Toolbar(toolitems=[('Home', 'Reset original view', 'home', 'home'), ('Back', 'Back to previous …"
      ]
     },
     "metadata": {},
     "output_type": "display_data"
    }
   ],
   "source": [
    "%matplotlib widget\n",
    "\n",
    "fig, ax = plt.subplots()\n",
    "fig.set_size_inches(9, 15)\n",
    "ax.plot(y, n(y), label=\"a) n\")\n",
    "ax.plot(y, log_2_n(y), label=\"b) log_2_n\")\n",
    "ax.plot(y, n_log_2(y), label=\"c) n_log_2_n\")\n",
    "ax.plot(y, log_2_n_fac(y), label=\"f) log_2_n_fac\")\n",
    "# ax.plot(y, n_to_2(y), label=\"g) n^2\")\n",
    "ax.plot(y, sqrt(y), label=\"h) sqrt(n)\")\n",
    "\n",
    "ax.plot(y, sqrt_log_2_n(y), label=\"i) sqrt_log_2_n(n)\")\n",
    "ax.plot(y, n_sqrt(y), label=\"j) n_sqrt(n)\")\n",
    "ax.plot(y, log_2_n_squared(y), label=\"k) log_2_n_squared(n)\")\n",
    "ax.plot(y, log_2_n_square(y), label=\"l) log_2_n_square(n)\")\n",
    "ax.plot(y, sqrt_n_log_2_n(y), label=\"m) log_2_n_square(n)\")\n",
    "ax.plot(y, n_sqrt_log_2_n(y), label=\"n) n_sqrt_log_2_n(n)\")\n",
    "ax.plot(y, one(y), label=\"o) 1\")\n",
    "# ax.plot(y, n_log_n_square(y), label=\"p) n_log_n_square(n)\")\n",
    "# ax.set_yscale(\"log\") \n",
    "# ax.plot(y, factorial(y), label=\"factorial\")\n",
    "ax.legend()\n",
    "labelLines(ax.get_lines(), zorder=2.5)\n",
    "plt.grid()"
   ]
  },
  {
   "cell_type": "code",
   "execution_count": 5,
   "id": "baa29b73",
   "metadata": {},
   "outputs": [
    {
     "data": {
      "text/plain": [
       "<matplotlib.legend.Legend at 0x7f545b9a9940>"
      ]
     },
     "execution_count": 5,
     "metadata": {},
     "output_type": "execute_result"
    },
    {
     "data": {
      "image/png": "[encoded data removed]",
      "text/plain": [
       "<Figure size 1080x360 with 1 Axes>"
      ]
     },
     "metadata": {
      "needs_background": "light"
     },
     "output_type": "display_data"
    }
   ],
   "source": [
    "y=np.linspace(3,1000)\n",
    "\n",
    "fig, ax = plt.subplots()\n",
    "fig.set_size_inches(15, 5)\n",
    "ax.plot(y, n(y), label=\"n\")\n",
    "# ax.plot(y, two_to_n(y), label=\"two_to_n\")\n",
    "# ax.plot(y, factorial(y), label=\"factorial\")\n",
    "ax.plot(y, log_2_n_fac(y), label=\"log_2_n_fac\")\n",
    "ax.legend()"
   ]
  },
  {
   "cell_type": "code",
   "execution_count": 6,
   "id": "2a917126",
   "metadata": {},
   "outputs": [
    {
     "data": {
      "text/plain": [
       "[2,\n",
       " 4,\n",
       " 6,\n",
       " 9,\n",
       " 12,\n",
       " 15,\n",
       " 18,\n",
       " 21,\n",
       " 25,\n",
       " 28,\n",
       " 32,\n",
       " 36,\n",
       " 40,\n",
       " 44,\n",
       " 48,\n",
       " 52,\n",
       " 56,\n",
       " 61,\n",
       " 65,\n",
       " 69,\n",
       " 74,\n",
       " 79,\n",
       " 83,\n",
       " 88,\n",
       " 93,\n",
       " 97,\n",
       " 102]"
      ]
     },
     "execution_count": 6,
     "metadata": {},
     "output_type": "execute_result"
    }
   ],
   "source": [
    "y=range(3,10*3)\n",
    "log_2_n_fac(y)\n"
   ]
  },
  {
   "cell_type": "code",
   "execution_count": 7,
   "id": "58f4f329",
   "metadata": {},
   "outputs": [
    {
     "data": {
      "text/plain": [
       "array([ 2,  4,  8, 16])"
      ]
     },
     "execution_count": 7,
     "metadata": {},
     "output_type": "execute_result"
    }
   ],
   "source": [
    "two_to_n([1,2,3,4])"
   ]
  },
  {
   "cell_type": "code",
   "execution_count": 8,
   "id": "57502cde",
   "metadata": {},
   "outputs": [
    {
     "data": {
      "text/plain": [
       "array([        8,        16,        32,        64,       128,       256,\n",
       "             512,      1024,      2048,      4096,      8192,     16384,\n",
       "           32768,     65536,    131072,    262144,    524288,   1048576,\n",
       "         2097152,   4194304,   8388608,  16777216,  33554432,  67108864,\n",
       "       134217728, 268435456, 536870912])"
      ]
     },
     "execution_count": 8,
     "metadata": {},
     "output_type": "execute_result"
    }
   ],
   "source": [
    "np.power(2, y)"
   ]
  },
  {
   "cell_type": "code",
   "execution_count": 9,
   "id": "db5c4e6f",
   "metadata": {},
   "outputs": [
    {
     "data": {
      "text/plain": [
       "64"
      ]
     },
     "execution_count": 9,
     "metadata": {},
     "output_type": "execute_result"
    }
   ],
   "source": [
    "flog2(2**64)"
   ]
  },
  {
   "cell_type": "code",
   "execution_count": 10,
   "id": "5c80309c",
   "metadata": {},
   "outputs": [
    {
     "ename": "TypeError",
     "evalue": "loop of ufunc does not support argument 0 of type int which has no callable log2 method",
     "output_type": "error",
     "traceback": [
      "\u001b[0;31m---------------------------------------------------------------------------\u001b[0m",
      "\u001b[0;31mAttributeError\u001b[0m                            Traceback (most recent call last)",
      "\u001b[0;31mAttributeError\u001b[0m: 'int' object has no attribute 'log2'",
      "\nThe above exception was the direct cause of the following exception:\n",
      "\u001b[0;31mTypeError\u001b[0m                                 Traceback (most recent call last)",
      "\u001b[0;32m/tmp/ipykernel_44/2215239894.py\u001b[0m in \u001b[0;36m<module>\u001b[0;34m\u001b[0m\n\u001b[0;32m----> 1\u001b[0;31m \u001b[0mnp\u001b[0m\u001b[0;34m.\u001b[0m\u001b[0mlog2\u001b[0m\u001b[0;34m(\u001b[0m\u001b[0;36m2\u001b[0m\u001b[0;34m**\u001b[0m\u001b[0;36m64\u001b[0m\u001b[0;34m)\u001b[0m\u001b[0;34m\u001b[0m\u001b[0;34m\u001b[0m\u001b[0m\n\u001b[0m",
      "\u001b[0;31mTypeError\u001b[0m: loop of ufunc does not support argument 0 of type int which has no callable log2 method"
     ]
    }
   ],
   "source": [
    "np.log2(2**64)"
   ]
  },
  {
   "cell_type": "code",
   "execution_count": null,
   "id": "8ea3cbb8",
   "metadata": {},
   "outputs": [],
   "source": []
  }
 ],
 "metadata": {
  "kernelspec": {
   "display_name": "Python 3 (ipykernel)",
   "language": "python",
   "name": "python3"
  },
  "language_info": {
   "codemirror_mode": {
    "name": "ipython",
    "version": 3
   },
   "file_extension": ".py",
   "mimetype": "text/x-python",
   "name": "python",
   "nbconvert_exporter": "python",
   "pygments_lexer": "ipython3",
   "version": "3.9.5"
  }
 },
 "nbformat": 4,
 "nbformat_minor": 5
}
